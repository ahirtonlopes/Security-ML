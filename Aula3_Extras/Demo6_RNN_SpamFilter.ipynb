{
  "nbformat": 4,
  "nbformat_minor": 0,
  "metadata": {
    "colab": {
      "provenance": []
    },
    "kernelspec": {
      "name": "python3",
      "display_name": "Python 3"
    },
    "accelerator": "GPU"
  },
  "cells": [
    {
      "cell_type": "markdown",
      "metadata": {
        "id": "0UFqiLKTva3f"
      },
      "source": [
        "# Demo 6 - Recurrent Neural Networks (RNNs)\n",
        "\n",
        "### Cybersecurity MBA - Inteligência Artificial e Machine Learning (SEG)\n",
        "\n",
        "### Prof. Dr. Ahirton Lopes (profahirton.lopes@fiap.com.br)\n",
        "\n",
        "### Recurrent Neural Networks usando Keras e a base SMS Spam Collection Data (mensagens spam rotuladas)\n",
        "\n",
        "### Prof. Dr. José Ahirton Batista Lopes Filho"
      ]
    },
    {
      "cell_type": "code",
      "metadata": {
        "id": "YftvC61ju484"
      },
      "source": [
        "import pandas as pd\n",
        "import numpy as np\n",
        "import matplotlib.pyplot as plt\n",
        "import numpy as np\n",
        "\n",
        "from keras.layers import SimpleRNN, LSTM, GRU, Embedding, Dense, Flatten\n",
        "from keras.models import Sequential\n",
        "\n",
        "import tensorflow\n",
        "from tensorflow.keras.preprocessing.text import Tokenizer\n",
        "from tensorflow.keras.preprocessing.sequence import pad_sequences\n",
        "from keras.utils import plot_model"
      ],
      "execution_count": 1,
      "outputs": []
    },
    {
      "cell_type": "code",
      "metadata": {
        "id": "bkqHpovUu-yd"
      },
      "source": [
        "def message_to_array(msg):\n",
        "    msg = msg.lower().split(' ')\n",
        "    test_seq = np.array([word_index[word] for word in msg])\n",
        "\n",
        "    test_seq = np.pad(test_seq, (500-len(test_seq), 0), 'constant', constant_values=(0))\n",
        "    test_seq = test_seq.reshape(1, 500)\n",
        "    return test_seq"
      ],
      "execution_count": 2,
      "outputs": []
    },
    {
      "cell_type": "markdown",
      "metadata": {
        "id": "r3hruwWJk0fW"
      },
      "source": [
        "### Carregando a base SMS Spam Collection Data (sms rotulados em spam e ham)\n",
        "\n",
        "*** Mais informações em https://www.kaggle.com/uciml/sms-spam-collection-dataset e https://archive.ics.uci.edu/ml/datasets/sms+spam+collection ***"
      ]
    },
    {
      "cell_type": "code",
      "metadata": {
        "id": "g2ZrsckFvq-U",
        "colab": {
          "base_uri": "https://localhost:8080/",
          "height": 90
        },
        "outputId": "1b039041-f5a8-4e8e-c050-4224c3370982"
      },
      "source": [
        "from google.colab import files\n",
        "\n",
        "uploaded = files.upload()\n",
        "\n",
        "for fn in uploaded.keys():\n",
        "  print('Arquivo de nome \"{name}\" de tamanho {length} bytes'.format(\n",
        "      name=fn, length=len(uploaded[fn])))"
      ],
      "execution_count": 3,
      "outputs": [
        {
          "output_type": "display_data",
          "data": {
            "text/plain": [
              "<IPython.core.display.HTML object>"
            ],
            "text/html": [
              "\n",
              "     <input type=\"file\" id=\"files-74189ad0-c4ad-4b15-acf2-313a711f13f4\" name=\"files[]\" multiple disabled\n",
              "        style=\"border:none\" />\n",
              "     <output id=\"result-74189ad0-c4ad-4b15-acf2-313a711f13f4\">\n",
              "      Upload widget is only available when the cell has been executed in the\n",
              "      current browser session. Please rerun this cell to enable.\n",
              "      </output>\n",
              "      <script>// Copyright 2017 Google LLC\n",
              "//\n",
              "// Licensed under the Apache License, Version 2.0 (the \"License\");\n",
              "// you may not use this file except in compliance with the License.\n",
              "// You may obtain a copy of the License at\n",
              "//\n",
              "//      http://www.apache.org/licenses/LICENSE-2.0\n",
              "//\n",
              "// Unless required by applicable law or agreed to in writing, software\n",
              "// distributed under the License is distributed on an \"AS IS\" BASIS,\n",
              "// WITHOUT WARRANTIES OR CONDITIONS OF ANY KIND, either express or implied.\n",
              "// See the License for the specific language governing permissions and\n",
              "// limitations under the License.\n",
              "\n",
              "/**\n",
              " * @fileoverview Helpers for google.colab Python module.\n",
              " */\n",
              "(function(scope) {\n",
              "function span(text, styleAttributes = {}) {\n",
              "  const element = document.createElement('span');\n",
              "  element.textContent = text;\n",
              "  for (const key of Object.keys(styleAttributes)) {\n",
              "    element.style[key] = styleAttributes[key];\n",
              "  }\n",
              "  return element;\n",
              "}\n",
              "\n",
              "// Max number of bytes which will be uploaded at a time.\n",
              "const MAX_PAYLOAD_SIZE = 100 * 1024;\n",
              "\n",
              "function _uploadFiles(inputId, outputId) {\n",
              "  const steps = uploadFilesStep(inputId, outputId);\n",
              "  const outputElement = document.getElementById(outputId);\n",
              "  // Cache steps on the outputElement to make it available for the next call\n",
              "  // to uploadFilesContinue from Python.\n",
              "  outputElement.steps = steps;\n",
              "\n",
              "  return _uploadFilesContinue(outputId);\n",
              "}\n",
              "\n",
              "// This is roughly an async generator (not supported in the browser yet),\n",
              "// where there are multiple asynchronous steps and the Python side is going\n",
              "// to poll for completion of each step.\n",
              "// This uses a Promise to block the python side on completion of each step,\n",
              "// then passes the result of the previous step as the input to the next step.\n",
              "function _uploadFilesContinue(outputId) {\n",
              "  const outputElement = document.getElementById(outputId);\n",
              "  const steps = outputElement.steps;\n",
              "\n",
              "  const next = steps.next(outputElement.lastPromiseValue);\n",
              "  return Promise.resolve(next.value.promise).then((value) => {\n",
              "    // Cache the last promise value to make it available to the next\n",
              "    // step of the generator.\n",
              "    outputElement.lastPromiseValue = value;\n",
              "    return next.value.response;\n",
              "  });\n",
              "}\n",
              "\n",
              "/**\n",
              " * Generator function which is called between each async step of the upload\n",
              " * process.\n",
              " * @param {string} inputId Element ID of the input file picker element.\n",
              " * @param {string} outputId Element ID of the output display.\n",
              " * @return {!Iterable<!Object>} Iterable of next steps.\n",
              " */\n",
              "function* uploadFilesStep(inputId, outputId) {\n",
              "  const inputElement = document.getElementById(inputId);\n",
              "  inputElement.disabled = false;\n",
              "\n",
              "  const outputElement = document.getElementById(outputId);\n",
              "  outputElement.innerHTML = '';\n",
              "\n",
              "  const pickedPromise = new Promise((resolve) => {\n",
              "    inputElement.addEventListener('change', (e) => {\n",
              "      resolve(e.target.files);\n",
              "    });\n",
              "  });\n",
              "\n",
              "  const cancel = document.createElement('button');\n",
              "  inputElement.parentElement.appendChild(cancel);\n",
              "  cancel.textContent = 'Cancel upload';\n",
              "  const cancelPromise = new Promise((resolve) => {\n",
              "    cancel.onclick = () => {\n",
              "      resolve(null);\n",
              "    };\n",
              "  });\n",
              "\n",
              "  // Wait for the user to pick the files.\n",
              "  const files = yield {\n",
              "    promise: Promise.race([pickedPromise, cancelPromise]),\n",
              "    response: {\n",
              "      action: 'starting',\n",
              "    }\n",
              "  };\n",
              "\n",
              "  cancel.remove();\n",
              "\n",
              "  // Disable the input element since further picks are not allowed.\n",
              "  inputElement.disabled = true;\n",
              "\n",
              "  if (!files) {\n",
              "    return {\n",
              "      response: {\n",
              "        action: 'complete',\n",
              "      }\n",
              "    };\n",
              "  }\n",
              "\n",
              "  for (const file of files) {\n",
              "    const li = document.createElement('li');\n",
              "    li.append(span(file.name, {fontWeight: 'bold'}));\n",
              "    li.append(span(\n",
              "        `(${file.type || 'n/a'}) - ${file.size} bytes, ` +\n",
              "        `last modified: ${\n",
              "            file.lastModifiedDate ? file.lastModifiedDate.toLocaleDateString() :\n",
              "                                    'n/a'} - `));\n",
              "    const percent = span('0% done');\n",
              "    li.appendChild(percent);\n",
              "\n",
              "    outputElement.appendChild(li);\n",
              "\n",
              "    const fileDataPromise = new Promise((resolve) => {\n",
              "      const reader = new FileReader();\n",
              "      reader.onload = (e) => {\n",
              "        resolve(e.target.result);\n",
              "      };\n",
              "      reader.readAsArrayBuffer(file);\n",
              "    });\n",
              "    // Wait for the data to be ready.\n",
              "    let fileData = yield {\n",
              "      promise: fileDataPromise,\n",
              "      response: {\n",
              "        action: 'continue',\n",
              "      }\n",
              "    };\n",
              "\n",
              "    // Use a chunked sending to avoid message size limits. See b/62115660.\n",
              "    let position = 0;\n",
              "    do {\n",
              "      const length = Math.min(fileData.byteLength - position, MAX_PAYLOAD_SIZE);\n",
              "      const chunk = new Uint8Array(fileData, position, length);\n",
              "      position += length;\n",
              "\n",
              "      const base64 = btoa(String.fromCharCode.apply(null, chunk));\n",
              "      yield {\n",
              "        response: {\n",
              "          action: 'append',\n",
              "          file: file.name,\n",
              "          data: base64,\n",
              "        },\n",
              "      };\n",
              "\n",
              "      let percentDone = fileData.byteLength === 0 ?\n",
              "          100 :\n",
              "          Math.round((position / fileData.byteLength) * 100);\n",
              "      percent.textContent = `${percentDone}% done`;\n",
              "\n",
              "    } while (position < fileData.byteLength);\n",
              "  }\n",
              "\n",
              "  // All done.\n",
              "  yield {\n",
              "    response: {\n",
              "      action: 'complete',\n",
              "    }\n",
              "  };\n",
              "}\n",
              "\n",
              "scope.google = scope.google || {};\n",
              "scope.google.colab = scope.google.colab || {};\n",
              "scope.google.colab._files = {\n",
              "  _uploadFiles,\n",
              "  _uploadFilesContinue,\n",
              "};\n",
              "})(self);\n",
              "</script> "
            ]
          },
          "metadata": {}
        },
        {
          "output_type": "stream",
          "name": "stdout",
          "text": [
            "Saving spam_data.csv to spam_data.csv\n",
            "Arquivo de nome \"spam_data.csv\" de tamanho 485703 bytes\n"
          ]
        }
      ]
    },
    {
      "cell_type": "code",
      "metadata": {
        "id": "dfbJaVJavPh5"
      },
      "source": [
        "# Importando nossos dados a partir do arquivo .csv\n",
        "\n",
        "data = pd.read_csv('spam_data.csv', sep=',')"
      ],
      "execution_count": 4,
      "outputs": []
    },
    {
      "cell_type": "markdown",
      "metadata": {
        "id": "eU9GyNPHlfbF"
      },
      "source": [
        "## Pré processamento de mensagens e rótulos"
      ]
    },
    {
      "cell_type": "code",
      "metadata": {
        "id": "n6MKnJbrwo5g"
      },
      "source": [
        "messages = []\n",
        "labels = []\n",
        "\n",
        "for index, row in data.iterrows():\n",
        "    messages.append(row['Message'])\n",
        "    if row['Category'] == 'ham': # classificando em 0 e 1\n",
        "        labels.append(0)\n",
        "    else:\n",
        "        labels.append(1)"
      ],
      "execution_count": 5,
      "outputs": []
    },
    {
      "cell_type": "code",
      "metadata": {
        "id": "SEAeTE8FwzG0",
        "colab": {
          "base_uri": "https://localhost:8080/"
        },
        "outputId": "53448d5d-f222-4cdf-c4b0-cf1deda3a24f"
      },
      "source": [
        "text_data_train = np.asarray(messages)\n",
        "text_data_target = np.asarray(labels)\n",
        "\n",
        "print(\"Numero de mensagens: \", len(messages))\n",
        "print(\"Numero de rotulos: \", len(labels))"
      ],
      "execution_count": 6,
      "outputs": [
        {
          "output_type": "stream",
          "name": "stdout",
          "text": [
            "Numero de mensagens:  5572\n",
            "Numero de rotulos:  5572\n"
          ]
        }
      ]
    },
    {
      "cell_type": "markdown",
      "metadata": {
        "id": "_Eae1j77lnxI"
      },
      "source": [
        "## Verificando o formato de nossas mensagens e rótulos"
      ]
    },
    {
      "cell_type": "code",
      "metadata": {
        "id": "r4Y6UKo-3jJ2",
        "colab": {
          "base_uri": "https://localhost:8080/"
        },
        "outputId": "0b544483-908a-4905-b4be-6dcc3ab50376"
      },
      "source": [
        "text_data_train[:5]"
      ],
      "execution_count": 7,
      "outputs": [
        {
          "output_type": "execute_result",
          "data": {
            "text/plain": [
              "array(['Go until jurong point, crazy.. Available only in bugis n great world la e buffet... Cine there got amore wat...',\n",
              "       'Ok lar... Joking wif u oni...',\n",
              "       \"Free entry in 2 a wkly comp to win FA Cup final tkts 21st May 2005. Text FA to 87121 to receive entry question(std txt rate)T&C's apply 08452810075over18's\",\n",
              "       'U dun say so early hor... U c already then say...',\n",
              "       \"Nah I don't think he goes to usf, he lives around here though\"],\n",
              "      dtype='<U910')"
            ]
          },
          "metadata": {},
          "execution_count": 7
        }
      ]
    },
    {
      "cell_type": "code",
      "metadata": {
        "id": "iUfKWZdf3ouG",
        "colab": {
          "base_uri": "https://localhost:8080/"
        },
        "outputId": "62e93d5c-e147-4872-c3d0-9dc66bae339d"
      },
      "source": [
        "text_data_target[:5]"
      ],
      "execution_count": 8,
      "outputs": [
        {
          "output_type": "execute_result",
          "data": {
            "text/plain": [
              "array([0, 0, 1, 0, 0])"
            ]
          },
          "metadata": {},
          "execution_count": 8
        }
      ]
    },
    {
      "cell_type": "markdown",
      "metadata": {
        "id": "XxLRgFVilzfT"
      },
      "source": [
        "## Processamento de nosso vocabulário"
      ]
    },
    {
      "cell_type": "code",
      "metadata": {
        "id": "Gm6kP3Tkw-HX",
        "colab": {
          "base_uri": "https://localhost:8080/"
        },
        "outputId": "e8a5f121-01d5-41a8-e0e8-b293e8d2b56c"
      },
      "source": [
        "max_vocab = 10000 # Ignorando todas as palavras, exceto as 10.000 palavras mais comuns em nosso vocabulário\n",
        "max_len = 500 # max_len especifica o comprimento máximo da sequência (que é truncada se for longa, e preenchida - via padding - se mais curta)\n",
        "\n",
        "tokenizer = Tokenizer(num_words=max_vocab)\n",
        "\n",
        "# Calculando a frequência das palavras em nossos dados de treinamento\n",
        "\n",
        "tokenizer.fit_on_texts(text_data_train)\n",
        "\n",
        "# Convertendo um array de mensagens para uma lista de sequências de inteiros\n",
        "\n",
        "sequences = tokenizer.texts_to_sequences(text_data_train)\n",
        "\n",
        "# Criação de dicionário afim de registrar as palavras para um índice do tipo inteiro\n",
        "\n",
        "word_index = tokenizer.word_index\n",
        "\n",
        "# Convertendo a matriz de sequências de inteiros em uma matriz 2D (com preenchimento, quando necessário)\n",
        "\n",
        "data = pad_sequences(sequences, maxlen=max_len)\n",
        "\n",
        "print(\"data shape: \", data.shape)"
      ],
      "execution_count": 9,
      "outputs": [
        {
          "output_type": "stream",
          "name": "stdout",
          "text": [
            "data shape:  (5572, 500)\n"
          ]
        }
      ]
    },
    {
      "cell_type": "markdown",
      "metadata": {
        "id": "UfmXfHGQl5An"
      },
      "source": [
        "## Dividindo o dataset em treinamento e validação"
      ]
    },
    {
      "cell_type": "code",
      "metadata": {
        "id": "gs6SAjxSxcQx"
      },
      "source": [
        "# Usando 80% dos dados disponíveis para treinamento e validação (80% treinamento, 20% validação), bem como 20% para teste\n",
        "\n",
        "train_samples = int(len(text_data_train)*0.8)\n",
        "\n",
        "messages_train = data[:train_samples]\n",
        "labels_train = text_data_target[:train_samples]\n",
        "\n",
        "messages_test = data[train_samples:len(text_data_train)-2]\n",
        "labels_test = text_data_target[train_samples:len(text_data_train)-2]\n",
        "\n",
        "embedding_mat_columns=32"
      ],
      "execution_count": 10,
      "outputs": []
    },
    {
      "cell_type": "markdown",
      "metadata": {
        "id": "Cm6Eiay_mCZe"
      },
      "source": [
        "## Definindo a arquitetura do modelo (IMPORTANTE!)\n",
        "\n",
        "* 3 camadas (Camadas de Embedding, Camada RNN Simples e Densa);\n",
        "* Uma última camada do tipo totalmente conectada contendo 1 neurônio."
      ]
    },
    {
      "cell_type": "code",
      "metadata": {
        "id": "KQrMlpSKxfa8",
        "colab": {
          "base_uri": "https://localhost:8080/"
        },
        "outputId": "e62bf47d-444b-4da5-a397-a79b9b958e9a"
      },
      "source": [
        "# Construindo nosso modelo de RNN Simples (via camada SimpleRNN)\n",
        "\n",
        "model = Sequential()\n",
        "\n",
        "# Utilização de camada de Embedding tendo em vista converter a codificação de inteiros em embeddings de palavras\n",
        "# O modelo vai então aprender a partir da matriz de embedding durante o treinamento;\n",
        "\n",
        "model.add(Embedding(input_dim=max_vocab, output_dim=embedding_mat_columns, input_length=max_len)) # A matriz de embedding contém max_vocab como número de linhas e o número de colunas escolhido\n",
        "\n",
        "model.add(SimpleRNN(units=embedding_mat_columns))\n",
        "\n",
        "# Após o descrito na Aula 6, testem com novas arquiteturas de camadas (RNNs, LSTMs e GRUs Bidirecionais e stackings) (!)\n",
        "\n",
        "#model.add(LSTM(units=embedding_mat_columns))\n",
        "#model.add(GRU(units=embedding_mat_columns))\n",
        "\n",
        "model.add(Dense(1, activation='sigmoid'))"
      ],
      "execution_count": 11,
      "outputs": [
        {
          "output_type": "stream",
          "name": "stderr",
          "text": [
            "/usr/local/lib/python3.11/dist-packages/keras/src/layers/core/embedding.py:90: UserWarning: Argument `input_length` is deprecated. Just remove it.\n",
            "  warnings.warn(\n"
          ]
        }
      ]
    },
    {
      "cell_type": "markdown",
      "metadata": {
        "id": "G3ERDDXRmvjA"
      },
      "source": [
        "## Compilando o modelo"
      ]
    },
    {
      "cell_type": "code",
      "metadata": {
        "id": "Ojcp_atkxhx8",
        "colab": {
          "base_uri": "https://localhost:8080/",
          "height": 230
        },
        "outputId": "c8664a2c-75a6-4e55-afab-e8337f92e061"
      },
      "source": [
        "model.compile(optimizer='rmsprop', loss='binary_crossentropy', metrics=['acc'])\n",
        "model.summary()"
      ],
      "execution_count": 12,
      "outputs": [
        {
          "output_type": "display_data",
          "data": {
            "text/plain": [
              "\u001b[1mModel: \"sequential\"\u001b[0m\n"
            ],
            "text/html": [
              "<pre style=\"white-space:pre;overflow-x:auto;line-height:normal;font-family:Menlo,'DejaVu Sans Mono',consolas,'Courier New',monospace\"><span style=\"font-weight: bold\">Model: \"sequential\"</span>\n",
              "</pre>\n"
            ]
          },
          "metadata": {}
        },
        {
          "output_type": "display_data",
          "data": {
            "text/plain": [
              "┏━━━━━━━━━━━━━━━━━━━━━━━━━━━━━━━━━━━━━━┳━━━━━━━━━━━━━━━━━━━━━━━━━━━━━┳━━━━━━━━━━━━━━━━━┓\n",
              "┃\u001b[1m \u001b[0m\u001b[1mLayer (type)                        \u001b[0m\u001b[1m \u001b[0m┃\u001b[1m \u001b[0m\u001b[1mOutput Shape               \u001b[0m\u001b[1m \u001b[0m┃\u001b[1m \u001b[0m\u001b[1m        Param #\u001b[0m\u001b[1m \u001b[0m┃\n",
              "┡━━━━━━━━━━━━━━━━━━━━━━━━━━━━━━━━━━━━━━╇━━━━━━━━━━━━━━━━━━━━━━━━━━━━━╇━━━━━━━━━━━━━━━━━┩\n",
              "│ embedding (\u001b[38;5;33mEmbedding\u001b[0m)                │ ?                           │     \u001b[38;5;34m0\u001b[0m (unbuilt) │\n",
              "├──────────────────────────────────────┼─────────────────────────────┼─────────────────┤\n",
              "│ simple_rnn (\u001b[38;5;33mSimpleRNN\u001b[0m)               │ ?                           │     \u001b[38;5;34m0\u001b[0m (unbuilt) │\n",
              "├──────────────────────────────────────┼─────────────────────────────┼─────────────────┤\n",
              "│ dense (\u001b[38;5;33mDense\u001b[0m)                        │ ?                           │     \u001b[38;5;34m0\u001b[0m (unbuilt) │\n",
              "└──────────────────────────────────────┴─────────────────────────────┴─────────────────┘\n"
            ],
            "text/html": [
              "<pre style=\"white-space:pre;overflow-x:auto;line-height:normal;font-family:Menlo,'DejaVu Sans Mono',consolas,'Courier New',monospace\">┏━━━━━━━━━━━━━━━━━━━━━━━━━━━━━━━━━━━━━━┳━━━━━━━━━━━━━━━━━━━━━━━━━━━━━┳━━━━━━━━━━━━━━━━━┓\n",
              "┃<span style=\"font-weight: bold\"> Layer (type)                         </span>┃<span style=\"font-weight: bold\"> Output Shape                </span>┃<span style=\"font-weight: bold\">         Param # </span>┃\n",
              "┡━━━━━━━━━━━━━━━━━━━━━━━━━━━━━━━━━━━━━━╇━━━━━━━━━━━━━━━━━━━━━━━━━━━━━╇━━━━━━━━━━━━━━━━━┩\n",
              "│ embedding (<span style=\"color: #0087ff; text-decoration-color: #0087ff\">Embedding</span>)                │ ?                           │     <span style=\"color: #00af00; text-decoration-color: #00af00\">0</span> (unbuilt) │\n",
              "├──────────────────────────────────────┼─────────────────────────────┼─────────────────┤\n",
              "│ simple_rnn (<span style=\"color: #0087ff; text-decoration-color: #0087ff\">SimpleRNN</span>)               │ ?                           │     <span style=\"color: #00af00; text-decoration-color: #00af00\">0</span> (unbuilt) │\n",
              "├──────────────────────────────────────┼─────────────────────────────┼─────────────────┤\n",
              "│ dense (<span style=\"color: #0087ff; text-decoration-color: #0087ff\">Dense</span>)                        │ ?                           │     <span style=\"color: #00af00; text-decoration-color: #00af00\">0</span> (unbuilt) │\n",
              "└──────────────────────────────────────┴─────────────────────────────┴─────────────────┘\n",
              "</pre>\n"
            ]
          },
          "metadata": {}
        },
        {
          "output_type": "display_data",
          "data": {
            "text/plain": [
              "\u001b[1m Total params: \u001b[0m\u001b[38;5;34m0\u001b[0m (0.00 B)\n"
            ],
            "text/html": [
              "<pre style=\"white-space:pre;overflow-x:auto;line-height:normal;font-family:Menlo,'DejaVu Sans Mono',consolas,'Courier New',monospace\"><span style=\"font-weight: bold\"> Total params: </span><span style=\"color: #00af00; text-decoration-color: #00af00\">0</span> (0.00 B)\n",
              "</pre>\n"
            ]
          },
          "metadata": {}
        },
        {
          "output_type": "display_data",
          "data": {
            "text/plain": [
              "\u001b[1m Trainable params: \u001b[0m\u001b[38;5;34m0\u001b[0m (0.00 B)\n"
            ],
            "text/html": [
              "<pre style=\"white-space:pre;overflow-x:auto;line-height:normal;font-family:Menlo,'DejaVu Sans Mono',consolas,'Courier New',monospace\"><span style=\"font-weight: bold\"> Trainable params: </span><span style=\"color: #00af00; text-decoration-color: #00af00\">0</span> (0.00 B)\n",
              "</pre>\n"
            ]
          },
          "metadata": {}
        },
        {
          "output_type": "display_data",
          "data": {
            "text/plain": [
              "\u001b[1m Non-trainable params: \u001b[0m\u001b[38;5;34m0\u001b[0m (0.00 B)\n"
            ],
            "text/html": [
              "<pre style=\"white-space:pre;overflow-x:auto;line-height:normal;font-family:Menlo,'DejaVu Sans Mono',consolas,'Courier New',monospace\"><span style=\"font-weight: bold\"> Non-trainable params: </span><span style=\"color: #00af00; text-decoration-color: #00af00\">0</span> (0.00 B)\n",
              "</pre>\n"
            ]
          },
          "metadata": {}
        }
      ]
    },
    {
      "cell_type": "markdown",
      "metadata": {
        "id": "yUHp6nrdm-5G"
      },
      "source": [
        "## Treinamento de nosso modelo"
      ]
    },
    {
      "cell_type": "code",
      "metadata": {
        "id": "J35_0idkxnh7",
        "colab": {
          "base_uri": "https://localhost:8080/"
        },
        "outputId": "ab472339-c8dc-45f6-92cb-9b92a8305098"
      },
      "source": [
        "model.fit(messages_train, labels_train, epochs=100, batch_size=16, validation_split=0.2)"
      ],
      "execution_count": 13,
      "outputs": [
        {
          "output_type": "stream",
          "name": "stdout",
          "text": [
            "Epoch 1/100\n",
            "\u001b[1m223/223\u001b[0m \u001b[32m━━━━━━━━━━━━━━━━━━━━\u001b[0m\u001b[37m\u001b[0m \u001b[1m23s\u001b[0m 66ms/step - acc: 0.8879 - loss: 0.3222 - val_acc: 0.9608 - val_loss: 0.1066\n",
            "Epoch 2/100\n",
            "\u001b[1m223/223\u001b[0m \u001b[32m━━━━━━━━━━━━━━━━━━━━\u001b[0m\u001b[37m\u001b[0m \u001b[1m8s\u001b[0m 36ms/step - acc: 0.9762 - loss: 0.0783 - val_acc: 0.9843 - val_loss: 0.0516\n",
            "Epoch 3/100\n",
            "\u001b[1m223/223\u001b[0m \u001b[32m━━━━━━━━━━━━━━━━━━━━\u001b[0m\u001b[37m\u001b[0m \u001b[1m10s\u001b[0m 35ms/step - acc: 0.9888 - loss: 0.0425 - val_acc: 0.9821 - val_loss: 0.0576\n",
            "Epoch 4/100\n",
            "\u001b[1m223/223\u001b[0m \u001b[32m━━━━━━━━━━━━━━━━━━━━\u001b[0m\u001b[37m\u001b[0m \u001b[1m8s\u001b[0m 35ms/step - acc: 0.9942 - loss: 0.0258 - val_acc: 0.9809 - val_loss: 0.0686\n",
            "Epoch 5/100\n",
            "\u001b[1m223/223\u001b[0m \u001b[32m━━━━━━━━━━━━━━━━━━━━\u001b[0m\u001b[37m\u001b[0m \u001b[1m10s\u001b[0m 36ms/step - acc: 0.9921 - loss: 0.0287 - val_acc: 0.9821 - val_loss: 0.0612\n",
            "Epoch 6/100\n",
            "\u001b[1m223/223\u001b[0m \u001b[32m━━━━━━━━━━━━━━━━━━━━\u001b[0m\u001b[37m\u001b[0m \u001b[1m11s\u001b[0m 37ms/step - acc: 0.9954 - loss: 0.0181 - val_acc: 0.9832 - val_loss: 0.0652\n",
            "Epoch 7/100\n",
            "\u001b[1m223/223\u001b[0m \u001b[32m━━━━━━━━━━━━━━━━━━━━\u001b[0m\u001b[37m\u001b[0m \u001b[1m11s\u001b[0m 39ms/step - acc: 0.9969 - loss: 0.0109 - val_acc: 0.9821 - val_loss: 0.0644\n",
            "Epoch 8/100\n",
            "\u001b[1m223/223\u001b[0m \u001b[32m━━━━━━━━━━━━━━━━━━━━\u001b[0m\u001b[37m\u001b[0m \u001b[1m10s\u001b[0m 46ms/step - acc: 0.9972 - loss: 0.0084 - val_acc: 0.9765 - val_loss: 0.0784\n",
            "Epoch 9/100\n",
            "\u001b[1m223/223\u001b[0m \u001b[32m━━━━━━━━━━━━━━━━━━━━\u001b[0m\u001b[37m\u001b[0m \u001b[1m11s\u001b[0m 50ms/step - acc: 0.9984 - loss: 0.0060 - val_acc: 0.9776 - val_loss: 0.0830\n",
            "Epoch 10/100\n",
            "\u001b[1m223/223\u001b[0m \u001b[32m━━━━━━━━━━━━━━━━━━━━\u001b[0m\u001b[37m\u001b[0m \u001b[1m19s\u001b[0m 44ms/step - acc: 0.9996 - loss: 0.0018 - val_acc: 0.9787 - val_loss: 0.0850\n",
            "Epoch 11/100\n",
            "\u001b[1m223/223\u001b[0m \u001b[32m━━━━━━━━━━━━━━━━━━━━\u001b[0m\u001b[37m\u001b[0m \u001b[1m9s\u001b[0m 42ms/step - acc: 1.0000 - loss: 0.0017 - val_acc: 0.9787 - val_loss: 0.0892\n",
            "Epoch 12/100\n",
            "\u001b[1m223/223\u001b[0m \u001b[32m━━━━━━━━━━━━━━━━━━━━\u001b[0m\u001b[37m\u001b[0m \u001b[1m8s\u001b[0m 37ms/step - acc: 0.9997 - loss: 0.0015 - val_acc: 0.9809 - val_loss: 0.0933\n",
            "Epoch 13/100\n",
            "\u001b[1m223/223\u001b[0m \u001b[32m━━━━━━━━━━━━━━━━━━━━\u001b[0m\u001b[37m\u001b[0m \u001b[1m12s\u001b[0m 44ms/step - acc: 0.9967 - loss: 0.0077 - val_acc: 0.9742 - val_loss: 0.1236\n",
            "Epoch 14/100\n",
            "\u001b[1m223/223\u001b[0m \u001b[32m━━━━━━━━━━━━━━━━━━━━\u001b[0m\u001b[37m\u001b[0m \u001b[1m11s\u001b[0m 47ms/step - acc: 1.0000 - loss: 4.6269e-04 - val_acc: 0.9731 - val_loss: 0.1246\n",
            "Epoch 15/100\n",
            "\u001b[1m223/223\u001b[0m \u001b[32m━━━━━━━━━━━━━━━━━━━━\u001b[0m\u001b[37m\u001b[0m \u001b[1m20s\u001b[0m 46ms/step - acc: 0.9995 - loss: 9.8117e-04 - val_acc: 0.9585 - val_loss: 0.1664\n",
            "Epoch 16/100\n",
            "\u001b[1m223/223\u001b[0m \u001b[32m━━━━━━━━━━━━━━━━━━━━\u001b[0m\u001b[37m\u001b[0m \u001b[1m19s\u001b[0m 40ms/step - acc: 1.0000 - loss: 6.9031e-04 - val_acc: 0.9709 - val_loss: 0.1382\n",
            "Epoch 17/100\n",
            "\u001b[1m223/223\u001b[0m \u001b[32m━━━━━━━━━━━━━━━━━━━━\u001b[0m\u001b[37m\u001b[0m \u001b[1m11s\u001b[0m 42ms/step - acc: 0.9983 - loss: 0.0053 - val_acc: 0.9675 - val_loss: 0.1418\n",
            "Epoch 18/100\n",
            "\u001b[1m223/223\u001b[0m \u001b[32m━━━━━━━━━━━━━━━━━━━━\u001b[0m\u001b[37m\u001b[0m \u001b[1m9s\u001b[0m 38ms/step - acc: 0.9996 - loss: 0.0019 - val_acc: 0.9776 - val_loss: 0.1022\n",
            "Epoch 19/100\n",
            "\u001b[1m223/223\u001b[0m \u001b[32m━━━━━━━━━━━━━━━━━━━━\u001b[0m\u001b[37m\u001b[0m \u001b[1m10s\u001b[0m 44ms/step - acc: 1.0000 - loss: 1.0452e-04 - val_acc: 0.9765 - val_loss: 0.1145\n",
            "Epoch 20/100\n",
            "\u001b[1m223/223\u001b[0m \u001b[32m━━━━━━━━━━━━━━━━━━━━\u001b[0m\u001b[37m\u001b[0m \u001b[1m8s\u001b[0m 35ms/step - acc: 1.0000 - loss: 4.9333e-05 - val_acc: 0.9809 - val_loss: 0.1083\n",
            "Epoch 21/100\n",
            "\u001b[1m223/223\u001b[0m \u001b[32m━━━━━━━━━━━━━━━━━━━━\u001b[0m\u001b[37m\u001b[0m \u001b[1m10s\u001b[0m 34ms/step - acc: 1.0000 - loss: 2.2194e-05 - val_acc: 0.9854 - val_loss: 0.1033\n",
            "Epoch 22/100\n",
            "\u001b[1m223/223\u001b[0m \u001b[32m━━━━━━━━━━━━━━━━━━━━\u001b[0m\u001b[37m\u001b[0m \u001b[1m8s\u001b[0m 34ms/step - acc: 1.0000 - loss: 1.1071e-05 - val_acc: 0.9821 - val_loss: 0.1081\n",
            "Epoch 23/100\n",
            "\u001b[1m223/223\u001b[0m \u001b[32m━━━━━━━━━━━━━━━━━━━━\u001b[0m\u001b[37m\u001b[0m \u001b[1m10s\u001b[0m 35ms/step - acc: 1.0000 - loss: 6.0094e-06 - val_acc: 0.9832 - val_loss: 0.1072\n",
            "Epoch 24/100\n",
            "\u001b[1m223/223\u001b[0m \u001b[32m━━━━━━━━━━━━━━━━━━━━\u001b[0m\u001b[37m\u001b[0m \u001b[1m10s\u001b[0m 34ms/step - acc: 1.0000 - loss: 5.7041e-06 - val_acc: 0.9832 - val_loss: 0.1049\n",
            "Epoch 25/100\n",
            "\u001b[1m223/223\u001b[0m \u001b[32m━━━━━━━━━━━━━━━━━━━━\u001b[0m\u001b[37m\u001b[0m \u001b[1m10s\u001b[0m 34ms/step - acc: 1.0000 - loss: 5.4034e-06 - val_acc: 0.9832 - val_loss: 0.1045\n",
            "Epoch 26/100\n",
            "\u001b[1m223/223\u001b[0m \u001b[32m━━━━━━━━━━━━━━━━━━━━\u001b[0m\u001b[37m\u001b[0m \u001b[1m8s\u001b[0m 34ms/step - acc: 1.0000 - loss: 4.4975e-06 - val_acc: 0.9832 - val_loss: 0.1024\n",
            "Epoch 27/100\n",
            "\u001b[1m223/223\u001b[0m \u001b[32m━━━━━━━━━━━━━━━━━━━━\u001b[0m\u001b[37m\u001b[0m \u001b[1m8s\u001b[0m 34ms/step - acc: 1.0000 - loss: 4.4235e-06 - val_acc: 0.9821 - val_loss: 0.1074\n",
            "Epoch 28/100\n",
            "\u001b[1m223/223\u001b[0m \u001b[32m━━━━━━━━━━━━━━━━━━━━\u001b[0m\u001b[37m\u001b[0m \u001b[1m10s\u001b[0m 35ms/step - acc: 1.0000 - loss: 2.6919e-06 - val_acc: 0.9854 - val_loss: 0.1035\n",
            "Epoch 29/100\n",
            "\u001b[1m223/223\u001b[0m \u001b[32m━━━━━━━━━━━━━━━━━━━━\u001b[0m\u001b[37m\u001b[0m \u001b[1m7s\u001b[0m 33ms/step - acc: 1.0000 - loss: 2.7565e-06 - val_acc: 0.9843 - val_loss: 0.1005\n",
            "Epoch 30/100\n",
            "\u001b[1m223/223\u001b[0m \u001b[32m━━━━━━━━━━━━━━━━━━━━\u001b[0m\u001b[37m\u001b[0m \u001b[1m8s\u001b[0m 34ms/step - acc: 1.0000 - loss: 2.9860e-06 - val_acc: 0.9832 - val_loss: 0.1017\n",
            "Epoch 31/100\n",
            "\u001b[1m223/223\u001b[0m \u001b[32m━━━━━━━━━━━━━━━━━━━━\u001b[0m\u001b[37m\u001b[0m \u001b[1m10s\u001b[0m 35ms/step - acc: 1.0000 - loss: 2.3620e-06 - val_acc: 0.9843 - val_loss: 0.1015\n",
            "Epoch 32/100\n",
            "\u001b[1m223/223\u001b[0m \u001b[32m━━━━━━━━━━━━━━━━━━━━\u001b[0m\u001b[37m\u001b[0m \u001b[1m10s\u001b[0m 35ms/step - acc: 1.0000 - loss: 2.8181e-06 - val_acc: 0.9843 - val_loss: 0.1025\n",
            "Epoch 33/100\n",
            "\u001b[1m223/223\u001b[0m \u001b[32m━━━━━━━━━━━━━━━━━━━━\u001b[0m\u001b[37m\u001b[0m \u001b[1m10s\u001b[0m 34ms/step - acc: 1.0000 - loss: 2.5993e-06 - val_acc: 0.9843 - val_loss: 0.1039\n",
            "Epoch 34/100\n",
            "\u001b[1m223/223\u001b[0m \u001b[32m━━━━━━━━━━━━━━━━━━━━\u001b[0m\u001b[37m\u001b[0m \u001b[1m8s\u001b[0m 34ms/step - acc: 1.0000 - loss: 2.8024e-06 - val_acc: 0.9832 - val_loss: 0.1028\n",
            "Epoch 35/100\n",
            "\u001b[1m223/223\u001b[0m \u001b[32m━━━━━━━━━━━━━━━━━━━━\u001b[0m\u001b[37m\u001b[0m \u001b[1m8s\u001b[0m 34ms/step - acc: 1.0000 - loss: 1.4821e-06 - val_acc: 0.9832 - val_loss: 0.1025\n",
            "Epoch 36/100\n",
            "\u001b[1m223/223\u001b[0m \u001b[32m━━━━━━━━━━━━━━━━━━━━\u001b[0m\u001b[37m\u001b[0m \u001b[1m7s\u001b[0m 33ms/step - acc: 1.0000 - loss: 1.9678e-06 - val_acc: 0.9832 - val_loss: 0.1025\n",
            "Epoch 37/100\n",
            "\u001b[1m223/223\u001b[0m \u001b[32m━━━━━━━━━━━━━━━━━━━━\u001b[0m\u001b[37m\u001b[0m \u001b[1m11s\u001b[0m 34ms/step - acc: 1.0000 - loss: 1.7113e-06 - val_acc: 0.9843 - val_loss: 0.1022\n",
            "Epoch 38/100\n",
            "\u001b[1m223/223\u001b[0m \u001b[32m━━━━━━━━━━━━━━━━━━━━\u001b[0m\u001b[37m\u001b[0m \u001b[1m8s\u001b[0m 34ms/step - acc: 1.0000 - loss: 1.7609e-06 - val_acc: 0.9832 - val_loss: 0.1010\n",
            "Epoch 39/100\n",
            "\u001b[1m223/223\u001b[0m \u001b[32m━━━━━━━━━━━━━━━━━━━━\u001b[0m\u001b[37m\u001b[0m \u001b[1m7s\u001b[0m 33ms/step - acc: 1.0000 - loss: 3.5734e-04 - val_acc: 0.9821 - val_loss: 0.1159\n",
            "Epoch 40/100\n",
            "\u001b[1m223/223\u001b[0m \u001b[32m━━━━━━━━━━━━━━━━━━━━\u001b[0m\u001b[37m\u001b[0m \u001b[1m10s\u001b[0m 32ms/step - acc: 1.0000 - loss: 4.6984e-06 - val_acc: 0.9854 - val_loss: 0.1121\n",
            "Epoch 41/100\n",
            "\u001b[1m223/223\u001b[0m \u001b[32m━━━━━━━━━━━━━━━━━━━━\u001b[0m\u001b[37m\u001b[0m \u001b[1m10s\u001b[0m 33ms/step - acc: 1.0000 - loss: 2.8850e-06 - val_acc: 0.9854 - val_loss: 0.1129\n",
            "Epoch 42/100\n",
            "\u001b[1m223/223\u001b[0m \u001b[32m━━━━━━━━━━━━━━━━━━━━\u001b[0m\u001b[37m\u001b[0m \u001b[1m7s\u001b[0m 32ms/step - acc: 1.0000 - loss: 2.3302e-06 - val_acc: 0.9832 - val_loss: 0.1137\n",
            "Epoch 43/100\n",
            "\u001b[1m223/223\u001b[0m \u001b[32m━━━━━━━━━━━━━━━━━━━━\u001b[0m\u001b[37m\u001b[0m \u001b[1m11s\u001b[0m 33ms/step - acc: 1.0000 - loss: 2.2276e-06 - val_acc: 0.9821 - val_loss: 0.1143\n",
            "Epoch 44/100\n",
            "\u001b[1m223/223\u001b[0m \u001b[32m━━━━━━━━━━━━━━━━━━━━\u001b[0m\u001b[37m\u001b[0m \u001b[1m7s\u001b[0m 32ms/step - acc: 1.0000 - loss: 1.6287e-06 - val_acc: 0.9821 - val_loss: 0.1142\n",
            "Epoch 45/100\n",
            "\u001b[1m223/223\u001b[0m \u001b[32m━━━━━━━━━━━━━━━━━━━━\u001b[0m\u001b[37m\u001b[0m \u001b[1m7s\u001b[0m 32ms/step - acc: 1.0000 - loss: 1.4068e-06 - val_acc: 0.9821 - val_loss: 0.1140\n",
            "Epoch 46/100\n",
            "\u001b[1m223/223\u001b[0m \u001b[32m━━━━━━━━━━━━━━━━━━━━\u001b[0m\u001b[37m\u001b[0m \u001b[1m10s\u001b[0m 32ms/step - acc: 1.0000 - loss: 1.6790e-06 - val_acc: 0.9821 - val_loss: 0.1138\n",
            "Epoch 47/100\n",
            "\u001b[1m223/223\u001b[0m \u001b[32m━━━━━━━━━━━━━━━━━━━━\u001b[0m\u001b[37m\u001b[0m \u001b[1m10s\u001b[0m 33ms/step - acc: 1.0000 - loss: 1.5227e-06 - val_acc: 0.9809 - val_loss: 0.1151\n",
            "Epoch 48/100\n",
            "\u001b[1m223/223\u001b[0m \u001b[32m━━━━━━━━━━━━━━━━━━━━\u001b[0m\u001b[37m\u001b[0m \u001b[1m10s\u001b[0m 32ms/step - acc: 1.0000 - loss: 1.3983e-06 - val_acc: 0.9832 - val_loss: 0.1134\n",
            "Epoch 49/100\n",
            "\u001b[1m223/223\u001b[0m \u001b[32m━━━━━━━━━━━━━━━━━━━━\u001b[0m\u001b[37m\u001b[0m \u001b[1m7s\u001b[0m 32ms/step - acc: 1.0000 - loss: 1.5800e-06 - val_acc: 0.9843 - val_loss: 0.1126\n",
            "Epoch 50/100\n",
            "\u001b[1m223/223\u001b[0m \u001b[32m━━━━━━━━━━━━━━━━━━━━\u001b[0m\u001b[37m\u001b[0m \u001b[1m7s\u001b[0m 32ms/step - acc: 1.0000 - loss: 1.1632e-06 - val_acc: 0.9832 - val_loss: 0.1133\n",
            "Epoch 51/100\n",
            "\u001b[1m223/223\u001b[0m \u001b[32m━━━━━━━━━━━━━━━━━━━━\u001b[0m\u001b[37m\u001b[0m \u001b[1m11s\u001b[0m 33ms/step - acc: 1.0000 - loss: 1.1395e-06 - val_acc: 0.9832 - val_loss: 0.1132\n",
            "Epoch 52/100\n",
            "\u001b[1m223/223\u001b[0m \u001b[32m━━━━━━━━━━━━━━━━━━━━\u001b[0m\u001b[37m\u001b[0m \u001b[1m10s\u001b[0m 33ms/step - acc: 1.0000 - loss: 1.1334e-06 - val_acc: 0.9832 - val_loss: 0.1132\n",
            "Epoch 53/100\n",
            "\u001b[1m223/223\u001b[0m \u001b[32m━━━━━━━━━━━━━━━━━━━━\u001b[0m\u001b[37m\u001b[0m \u001b[1m10s\u001b[0m 33ms/step - acc: 1.0000 - loss: 1.2052e-06 - val_acc: 0.9832 - val_loss: 0.1138\n",
            "Epoch 54/100\n",
            "\u001b[1m223/223\u001b[0m \u001b[32m━━━━━━━━━━━━━━━━━━━━\u001b[0m\u001b[37m\u001b[0m \u001b[1m10s\u001b[0m 32ms/step - acc: 1.0000 - loss: 1.1017e-06 - val_acc: 0.9832 - val_loss: 0.1128\n",
            "Epoch 55/100\n",
            "\u001b[1m223/223\u001b[0m \u001b[32m━━━━━━━━━━━━━━━━━━━━\u001b[0m\u001b[37m\u001b[0m \u001b[1m7s\u001b[0m 33ms/step - acc: 1.0000 - loss: 9.6603e-07 - val_acc: 0.9832 - val_loss: 0.1130\n",
            "Epoch 56/100\n",
            "\u001b[1m223/223\u001b[0m \u001b[32m━━━━━━━━━━━━━━━━━━━━\u001b[0m\u001b[37m\u001b[0m \u001b[1m10s\u001b[0m 33ms/step - acc: 1.0000 - loss: 9.8014e-07 - val_acc: 0.9832 - val_loss: 0.1125\n",
            "Epoch 57/100\n",
            "\u001b[1m223/223\u001b[0m \u001b[32m━━━━━━━━━━━━━━━━━━━━\u001b[0m\u001b[37m\u001b[0m \u001b[1m7s\u001b[0m 31ms/step - acc: 1.0000 - loss: 1.0320e-06 - val_acc: 0.9832 - val_loss: 0.1125\n",
            "Epoch 58/100\n",
            "\u001b[1m223/223\u001b[0m \u001b[32m━━━━━━━━━━━━━━━━━━━━\u001b[0m\u001b[37m\u001b[0m \u001b[1m7s\u001b[0m 32ms/step - acc: 1.0000 - loss: 8.2774e-07 - val_acc: 0.9832 - val_loss: 0.1121\n",
            "Epoch 59/100\n",
            "\u001b[1m223/223\u001b[0m \u001b[32m━━━━━━━━━━━━━━━━━━━━\u001b[0m\u001b[37m\u001b[0m \u001b[1m7s\u001b[0m 32ms/step - acc: 1.0000 - loss: 8.7057e-07 - val_acc: 0.9832 - val_loss: 0.1130\n",
            "Epoch 60/100\n",
            "\u001b[1m223/223\u001b[0m \u001b[32m━━━━━━━━━━━━━━━━━━━━\u001b[0m\u001b[37m\u001b[0m \u001b[1m7s\u001b[0m 33ms/step - acc: 1.0000 - loss: 1.0156e-06 - val_acc: 0.9832 - val_loss: 0.1123\n",
            "Epoch 61/100\n",
            "\u001b[1m223/223\u001b[0m \u001b[32m━━━━━━━━━━━━━━━━━━━━\u001b[0m\u001b[37m\u001b[0m \u001b[1m10s\u001b[0m 33ms/step - acc: 1.0000 - loss: 8.8868e-07 - val_acc: 0.9832 - val_loss: 0.1124\n",
            "Epoch 62/100\n",
            "\u001b[1m223/223\u001b[0m \u001b[32m━━━━━━━━━━━━━━━━━━━━\u001b[0m\u001b[37m\u001b[0m \u001b[1m7s\u001b[0m 32ms/step - acc: 1.0000 - loss: 8.0746e-07 - val_acc: 0.9832 - val_loss: 0.1122\n",
            "Epoch 63/100\n",
            "\u001b[1m223/223\u001b[0m \u001b[32m━━━━━━━━━━━━━━━━━━━━\u001b[0m\u001b[37m\u001b[0m \u001b[1m10s\u001b[0m 33ms/step - acc: 1.0000 - loss: 8.0884e-07 - val_acc: 0.9832 - val_loss: 0.1125\n",
            "Epoch 64/100\n",
            "\u001b[1m223/223\u001b[0m \u001b[32m━━━━━━━━━━━━━━━━━━━━\u001b[0m\u001b[37m\u001b[0m \u001b[1m7s\u001b[0m 33ms/step - acc: 1.0000 - loss: 7.0995e-07 - val_acc: 0.9832 - val_loss: 0.1134\n",
            "Epoch 65/100\n",
            "\u001b[1m223/223\u001b[0m \u001b[32m━━━━━━━━━━━━━━━━━━━━\u001b[0m\u001b[37m\u001b[0m \u001b[1m10s\u001b[0m 33ms/step - acc: 1.0000 - loss: 7.7381e-07 - val_acc: 0.9832 - val_loss: 0.1127\n",
            "Epoch 66/100\n",
            "\u001b[1m223/223\u001b[0m \u001b[32m━━━━━━━━━━━━━━━━━━━━\u001b[0m\u001b[37m\u001b[0m \u001b[1m7s\u001b[0m 32ms/step - acc: 1.0000 - loss: 9.1667e-07 - val_acc: 0.9832 - val_loss: 0.1129\n",
            "Epoch 67/100\n",
            "\u001b[1m223/223\u001b[0m \u001b[32m━━━━━━━━━━━━━━━━━━━━\u001b[0m\u001b[37m\u001b[0m \u001b[1m7s\u001b[0m 32ms/step - acc: 1.0000 - loss: 8.7993e-07 - val_acc: 0.9832 - val_loss: 0.1131\n",
            "Epoch 68/100\n",
            "\u001b[1m223/223\u001b[0m \u001b[32m━━━━━━━━━━━━━━━━━━━━\u001b[0m\u001b[37m\u001b[0m \u001b[1m7s\u001b[0m 33ms/step - acc: 1.0000 - loss: 6.6310e-07 - val_acc: 0.9821 - val_loss: 0.1137\n",
            "Epoch 69/100\n",
            "\u001b[1m223/223\u001b[0m \u001b[32m━━━━━━━━━━━━━━━━━━━━\u001b[0m\u001b[37m\u001b[0m \u001b[1m10s\u001b[0m 33ms/step - acc: 1.0000 - loss: 6.4485e-07 - val_acc: 0.9843 - val_loss: 0.1136\n",
            "Epoch 70/100\n",
            "\u001b[1m223/223\u001b[0m \u001b[32m━━━━━━━━━━━━━━━━━━━━\u001b[0m\u001b[37m\u001b[0m \u001b[1m7s\u001b[0m 32ms/step - acc: 1.0000 - loss: 6.8772e-07 - val_acc: 0.9821 - val_loss: 0.1143\n",
            "Epoch 71/100\n",
            "\u001b[1m223/223\u001b[0m \u001b[32m━━━━━━━━━━━━━━━━━━━━\u001b[0m\u001b[37m\u001b[0m \u001b[1m7s\u001b[0m 32ms/step - acc: 1.0000 - loss: 6.5618e-07 - val_acc: 0.9843 - val_loss: 0.1134\n",
            "Epoch 72/100\n",
            "\u001b[1m223/223\u001b[0m \u001b[32m━━━━━━━━━━━━━━━━━━━━\u001b[0m\u001b[37m\u001b[0m \u001b[1m7s\u001b[0m 32ms/step - acc: 1.0000 - loss: 6.2471e-07 - val_acc: 0.9832 - val_loss: 0.1140\n",
            "Epoch 73/100\n",
            "\u001b[1m223/223\u001b[0m \u001b[32m━━━━━━━━━━━━━━━━━━━━\u001b[0m\u001b[37m\u001b[0m \u001b[1m10s\u001b[0m 32ms/step - acc: 1.0000 - loss: 6.9227e-07 - val_acc: 0.9843 - val_loss: 0.1136\n",
            "Epoch 74/100\n",
            "\u001b[1m223/223\u001b[0m \u001b[32m━━━━━━━━━━━━━━━━━━━━\u001b[0m\u001b[37m\u001b[0m \u001b[1m7s\u001b[0m 32ms/step - acc: 1.0000 - loss: 6.1201e-07 - val_acc: 0.9843 - val_loss: 0.1138\n",
            "Epoch 75/100\n",
            "\u001b[1m223/223\u001b[0m \u001b[32m━━━━━━━━━━━━━━━━━━━━\u001b[0m\u001b[37m\u001b[0m \u001b[1m10s\u001b[0m 32ms/step - acc: 1.0000 - loss: 6.8056e-07 - val_acc: 0.9843 - val_loss: 0.1138\n",
            "Epoch 76/100\n",
            "\u001b[1m223/223\u001b[0m \u001b[32m━━━━━━━━━━━━━━━━━━━━\u001b[0m\u001b[37m\u001b[0m \u001b[1m10s\u001b[0m 33ms/step - acc: 1.0000 - loss: 6.2608e-07 - val_acc: 0.9843 - val_loss: 0.1140\n",
            "Epoch 77/100\n",
            "\u001b[1m223/223\u001b[0m \u001b[32m━━━━━━━━━━━━━━━━━━━━\u001b[0m\u001b[37m\u001b[0m \u001b[1m10s\u001b[0m 33ms/step - acc: 1.0000 - loss: 5.9960e-07 - val_acc: 0.9843 - val_loss: 0.1140\n",
            "Epoch 78/100\n",
            "\u001b[1m223/223\u001b[0m \u001b[32m━━━━━━━━━━━━━━━━━━━━\u001b[0m\u001b[37m\u001b[0m \u001b[1m10s\u001b[0m 33ms/step - acc: 1.0000 - loss: 5.9898e-07 - val_acc: 0.9843 - val_loss: 0.1141\n",
            "Epoch 79/100\n",
            "\u001b[1m223/223\u001b[0m \u001b[32m━━━━━━━━━━━━━━━━━━━━\u001b[0m\u001b[37m\u001b[0m \u001b[1m10s\u001b[0m 32ms/step - acc: 1.0000 - loss: 7.1873e-07 - val_acc: 0.9832 - val_loss: 0.1146\n",
            "Epoch 80/100\n",
            "\u001b[1m223/223\u001b[0m \u001b[32m━━━━━━━━━━━━━━━━━━━━\u001b[0m\u001b[37m\u001b[0m \u001b[1m7s\u001b[0m 32ms/step - acc: 1.0000 - loss: 6.9030e-07 - val_acc: 0.9832 - val_loss: 0.1147\n",
            "Epoch 81/100\n",
            "\u001b[1m223/223\u001b[0m \u001b[32m━━━━━━━━━━━━━━━━━━━━\u001b[0m\u001b[37m\u001b[0m \u001b[1m10s\u001b[0m 33ms/step - acc: 1.0000 - loss: 5.8037e-07 - val_acc: 0.9843 - val_loss: 0.1145\n",
            "Epoch 82/100\n",
            "\u001b[1m223/223\u001b[0m \u001b[32m━━━━━━━━━━━━━━━━━━━━\u001b[0m\u001b[37m\u001b[0m \u001b[1m10s\u001b[0m 33ms/step - acc: 1.0000 - loss: 6.2027e-07 - val_acc: 0.9832 - val_loss: 0.1150\n",
            "Epoch 83/100\n",
            "\u001b[1m223/223\u001b[0m \u001b[32m━━━━━━━━━━━━━━━━━━━━\u001b[0m\u001b[37m\u001b[0m \u001b[1m7s\u001b[0m 32ms/step - acc: 1.0000 - loss: 5.0596e-07 - val_acc: 0.9832 - val_loss: 0.1150\n",
            "Epoch 84/100\n",
            "\u001b[1m223/223\u001b[0m \u001b[32m━━━━━━━━━━━━━━━━━━━━\u001b[0m\u001b[37m\u001b[0m \u001b[1m7s\u001b[0m 33ms/step - acc: 1.0000 - loss: 5.2536e-07 - val_acc: 0.9843 - val_loss: 0.1148\n",
            "Epoch 85/100\n",
            "\u001b[1m223/223\u001b[0m \u001b[32m━━━━━━━━━━━━━━━━━━━━\u001b[0m\u001b[37m\u001b[0m \u001b[1m10s\u001b[0m 33ms/step - acc: 1.0000 - loss: 5.2603e-07 - val_acc: 0.9843 - val_loss: 0.1150\n",
            "Epoch 86/100\n",
            "\u001b[1m223/223\u001b[0m \u001b[32m━━━━━━━━━━━━━━━━━━━━\u001b[0m\u001b[37m\u001b[0m \u001b[1m10s\u001b[0m 33ms/step - acc: 1.0000 - loss: 6.3788e-07 - val_acc: 0.9832 - val_loss: 0.1151\n",
            "Epoch 87/100\n",
            "\u001b[1m223/223\u001b[0m \u001b[32m━━━━━━━━━━━━━━━━━━━━\u001b[0m\u001b[37m\u001b[0m \u001b[1m7s\u001b[0m 32ms/step - acc: 1.0000 - loss: 5.2432e-07 - val_acc: 0.9832 - val_loss: 0.1152\n",
            "Epoch 88/100\n",
            "\u001b[1m223/223\u001b[0m \u001b[32m━━━━━━━━━━━━━━━━━━━━\u001b[0m\u001b[37m\u001b[0m \u001b[1m7s\u001b[0m 33ms/step - acc: 1.0000 - loss: 4.6972e-07 - val_acc: 0.9832 - val_loss: 0.1154\n",
            "Epoch 89/100\n",
            "\u001b[1m223/223\u001b[0m \u001b[32m━━━━━━━━━━━━━━━━━━━━\u001b[0m\u001b[37m\u001b[0m \u001b[1m7s\u001b[0m 32ms/step - acc: 1.0000 - loss: 5.0732e-07 - val_acc: 0.9832 - val_loss: 0.1155\n",
            "Epoch 90/100\n",
            "\u001b[1m223/223\u001b[0m \u001b[32m━━━━━━━━━━━━━━━━━━━━\u001b[0m\u001b[37m\u001b[0m \u001b[1m11s\u001b[0m 33ms/step - acc: 1.0000 - loss: 5.6886e-07 - val_acc: 0.9843 - val_loss: 0.1153\n",
            "Epoch 91/100\n",
            "\u001b[1m223/223\u001b[0m \u001b[32m━━━━━━━━━━━━━━━━━━━━\u001b[0m\u001b[37m\u001b[0m \u001b[1m7s\u001b[0m 32ms/step - acc: 1.0000 - loss: 5.3526e-07 - val_acc: 0.9843 - val_loss: 0.1154\n",
            "Epoch 92/100\n",
            "\u001b[1m223/223\u001b[0m \u001b[32m━━━━━━━━━━━━━━━━━━━━\u001b[0m\u001b[37m\u001b[0m \u001b[1m7s\u001b[0m 32ms/step - acc: 1.0000 - loss: 5.9485e-07 - val_acc: 0.9832 - val_loss: 0.1157\n",
            "Epoch 93/100\n",
            "\u001b[1m223/223\u001b[0m \u001b[32m━━━━━━━━━━━━━━━━━━━━\u001b[0m\u001b[37m\u001b[0m \u001b[1m7s\u001b[0m 32ms/step - acc: 1.0000 - loss: 4.6852e-07 - val_acc: 0.9843 - val_loss: 0.1155\n",
            "Epoch 94/100\n",
            "\u001b[1m223/223\u001b[0m \u001b[32m━━━━━━━━━━━━━━━━━━━━\u001b[0m\u001b[37m\u001b[0m \u001b[1m7s\u001b[0m 33ms/step - acc: 1.0000 - loss: 4.7129e-07 - val_acc: 0.9832 - val_loss: 0.1159\n",
            "Epoch 95/100\n",
            "\u001b[1m223/223\u001b[0m \u001b[32m━━━━━━━━━━━━━━━━━━━━\u001b[0m\u001b[37m\u001b[0m \u001b[1m7s\u001b[0m 32ms/step - acc: 1.0000 - loss: 4.3976e-07 - val_acc: 0.9832 - val_loss: 0.1160\n",
            "Epoch 96/100\n",
            "\u001b[1m223/223\u001b[0m \u001b[32m━━━━━━━━━━━━━━━━━━━━\u001b[0m\u001b[37m\u001b[0m \u001b[1m10s\u001b[0m 32ms/step - acc: 1.0000 - loss: 4.7723e-07 - val_acc: 0.9843 - val_loss: 0.1159\n",
            "Epoch 97/100\n",
            "\u001b[1m223/223\u001b[0m \u001b[32m━━━━━━━━━━━━━━━━━━━━\u001b[0m\u001b[37m\u001b[0m \u001b[1m11s\u001b[0m 33ms/step - acc: 1.0000 - loss: 4.7688e-07 - val_acc: 0.9832 - val_loss: 0.1166\n",
            "Epoch 98/100\n",
            "\u001b[1m223/223\u001b[0m \u001b[32m━━━━━━━━━━━━━━━━━━━━\u001b[0m\u001b[37m\u001b[0m \u001b[1m10s\u001b[0m 33ms/step - acc: 1.0000 - loss: 4.3704e-07 - val_acc: 0.9832 - val_loss: 0.1163\n",
            "Epoch 99/100\n",
            "\u001b[1m223/223\u001b[0m \u001b[32m━━━━━━━━━━━━━━━━━━━━\u001b[0m\u001b[37m\u001b[0m \u001b[1m10s\u001b[0m 32ms/step - acc: 1.0000 - loss: 4.4973e-07 - val_acc: 0.9832 - val_loss: 0.1164\n",
            "Epoch 100/100\n",
            "\u001b[1m223/223\u001b[0m \u001b[32m━━━━━━━━━━━━━━━━━━━━\u001b[0m\u001b[37m\u001b[0m \u001b[1m10s\u001b[0m 33ms/step - acc: 1.0000 - loss: 4.4149e-07 - val_acc: 0.9843 - val_loss: 0.1164\n"
          ]
        },
        {
          "output_type": "execute_result",
          "data": {
            "text/plain": [
              "<keras.src.callbacks.history.History at 0x7eda0793eb50>"
            ]
          },
          "metadata": {},
          "execution_count": 13
        }
      ]
    },
    {
      "cell_type": "markdown",
      "metadata": {
        "id": "wkLEa97WnFJj"
      },
      "source": [
        "## Teste de nosso modelo"
      ]
    },
    {
      "cell_type": "code",
      "metadata": {
        "id": "r2a9aArFxqD9",
        "colab": {
          "base_uri": "https://localhost:8080/"
        },
        "outputId": "561ffacb-4d8d-4d99-ae6d-df6ecb1e949e"
      },
      "source": [
        "prediction = model.predict(messages_test)\n",
        "accuracy = model.evaluate(messages_test, labels_test)\n",
        "print(\"Perda em teste {0:.2f} acuracia eh {1:.2f}  \".format(accuracy[0],accuracy[1]))"
      ],
      "execution_count": 14,
      "outputs": [
        {
          "output_type": "stream",
          "name": "stdout",
          "text": [
            "\u001b[1m35/35\u001b[0m \u001b[32m━━━━━━━━━━━━━━━━━━━━\u001b[0m\u001b[37m\u001b[0m \u001b[1m1s\u001b[0m 19ms/step\n",
            "\u001b[1m35/35\u001b[0m \u001b[32m━━━━━━━━━━━━━━━━━━━━\u001b[0m\u001b[37m\u001b[0m \u001b[1m1s\u001b[0m 17ms/step - acc: 0.9734 - loss: 0.1574\n",
            "Perda em teste 0.15 acuracia eh 0.98  \n"
          ]
        }
      ]
    },
    {
      "cell_type": "code",
      "metadata": {
        "id": "2JcyEZ6LxsPs",
        "colab": {
          "base_uri": "https://localhost:8080/"
        },
        "outputId": "78c19b79-ff02-402b-b074-a77f4c4a69cc"
      },
      "source": [
        "# Construindo mensagem personalizada para teste rápido\n",
        "\n",
        "#custom_msg = 'Hi how are you'\n",
        "custom_msg = 'Free entry in 2 a wkly comp to win FA Cup final tkts 21st May Text FA to 87121 to receive entry question'\n",
        "\n",
        "test_seq = message_to_array(custom_msg)\n",
        "prediction = (model.predict(test_seq) > 0.5).astype(\"int32\")\n",
        "print(prediction)  #[1] para spam [0] para nao spam (ham)"
      ],
      "execution_count": 15,
      "outputs": [
        {
          "output_type": "stream",
          "name": "stdout",
          "text": [
            "\u001b[1m1/1\u001b[0m \u001b[32m━━━━━━━━━━━━━━━━━━━━\u001b[0m\u001b[37m\u001b[0m \u001b[1m0s\u001b[0m 330ms/step\n",
            "[[1]]\n"
          ]
        }
      ]
    }
  ]
}