{
  "nbformat": 4,
  "nbformat_minor": 0,
  "metadata": {
    "colab": {
      "provenance": []
    },
    "kernelspec": {
      "name": "python3",
      "display_name": "Python 3"
    },
    "accelerator": "GPU"
  },
  "cells": [
    {
      "cell_type": "markdown",
      "metadata": {
        "id": "0UFqiLKTva3f"
      },
      "source": [
        "# Demo 5 - Recurrent Neural Networks (RNNs)\n",
        "\n",
        "### Cybersecurity MBA - Inteligência Artificial e Machine Learning (SEG)\n",
        "\n",
        "### Recurrent Neural Networks usando Keras e a base SMS Spam Collection Data (mensagens spam rotuladas)\n",
        "\n",
        "### Prof. Dr. José Ahirton Batista Lopes Filho"
      ]
    },
    {
      "cell_type": "code",
      "metadata": {
        "id": "YftvC61ju484"
      },
      "source": [
        "from keras.layers import SimpleRNN, LSTM, GRU, Embedding, Dense, Flatten\n",
        "from keras.models import Sequential\n",
        "from keras.preprocessing.text import Tokenizer\n",
        "from tensorflow.keras.preprocessing.sequence import pad_sequences\n",
        "from keras.utils.vis_utils import plot_model\n",
        "\n",
        "import pandas as pd\n",
        "import numpy as np\n",
        "import matplotlib.pyplot as plt\n",
        "import numpy as np"
      ],
      "execution_count": 1,
      "outputs": []
    },
    {
      "cell_type": "code",
      "metadata": {
        "id": "bkqHpovUu-yd"
      },
      "source": [
        "def message_to_array(msg):\n",
        "    msg = msg.lower().split(' ')\n",
        "    test_seq = np.array([word_index[word] for word in msg])\n",
        "\n",
        "    test_seq = np.pad(test_seq, (500-len(test_seq), 0), 'constant', constant_values=(0))\n",
        "    test_seq = test_seq.reshape(1, 500)\n",
        "    return test_seq"
      ],
      "execution_count": 2,
      "outputs": []
    },
    {
      "cell_type": "markdown",
      "metadata": {
        "id": "r3hruwWJk0fW"
      },
      "source": [
        "### Carregando a base SMS Spam Collection Data (sms rotulados em spam e ham)\n",
        "\n",
        "*** Mais informações em https://www.kaggle.com/uciml/sms-spam-collection-dataset e https://archive.ics.uci.edu/ml/datasets/sms+spam+collection ***"
      ]
    },
    {
      "cell_type": "code",
      "metadata": {
        "id": "g2ZrsckFvq-U",
        "colab": {
          "base_uri": "https://localhost:8080/",
          "height": 91
        },
        "outputId": "7b732b75-664b-4926-fe72-e49319c14275"
      },
      "source": [
        "from google.colab import files\n",
        "\n",
        "uploaded = files.upload()\n",
        "\n",
        "for fn in uploaded.keys():\n",
        "  print('Arquivo de nome \"{name}\" de tamanho {length} bytes'.format(\n",
        "      name=fn, length=len(uploaded[fn])))"
      ],
      "execution_count": 3,
      "outputs": [
        {
          "output_type": "display_data",
          "data": {
            "text/plain": [
              "<IPython.core.display.HTML object>"
            ],
            "text/html": [
              "\n",
              "     <input type=\"file\" id=\"files-94e1c3fa-cb17-4287-9d00-f09887a23b28\" name=\"files[]\" multiple disabled\n",
              "        style=\"border:none\" />\n",
              "     <output id=\"result-94e1c3fa-cb17-4287-9d00-f09887a23b28\">\n",
              "      Upload widget is only available when the cell has been executed in the\n",
              "      current browser session. Please rerun this cell to enable.\n",
              "      </output>\n",
              "      <script>// Copyright 2017 Google LLC\n",
              "//\n",
              "// Licensed under the Apache License, Version 2.0 (the \"License\");\n",
              "// you may not use this file except in compliance with the License.\n",
              "// You may obtain a copy of the License at\n",
              "//\n",
              "//      http://www.apache.org/licenses/LICENSE-2.0\n",
              "//\n",
              "// Unless required by applicable law or agreed to in writing, software\n",
              "// distributed under the License is distributed on an \"AS IS\" BASIS,\n",
              "// WITHOUT WARRANTIES OR CONDITIONS OF ANY KIND, either express or implied.\n",
              "// See the License for the specific language governing permissions and\n",
              "// limitations under the License.\n",
              "\n",
              "/**\n",
              " * @fileoverview Helpers for google.colab Python module.\n",
              " */\n",
              "(function(scope) {\n",
              "function span(text, styleAttributes = {}) {\n",
              "  const element = document.createElement('span');\n",
              "  element.textContent = text;\n",
              "  for (const key of Object.keys(styleAttributes)) {\n",
              "    element.style[key] = styleAttributes[key];\n",
              "  }\n",
              "  return element;\n",
              "}\n",
              "\n",
              "// Max number of bytes which will be uploaded at a time.\n",
              "const MAX_PAYLOAD_SIZE = 100 * 1024;\n",
              "\n",
              "function _uploadFiles(inputId, outputId) {\n",
              "  const steps = uploadFilesStep(inputId, outputId);\n",
              "  const outputElement = document.getElementById(outputId);\n",
              "  // Cache steps on the outputElement to make it available for the next call\n",
              "  // to uploadFilesContinue from Python.\n",
              "  outputElement.steps = steps;\n",
              "\n",
              "  return _uploadFilesContinue(outputId);\n",
              "}\n",
              "\n",
              "// This is roughly an async generator (not supported in the browser yet),\n",
              "// where there are multiple asynchronous steps and the Python side is going\n",
              "// to poll for completion of each step.\n",
              "// This uses a Promise to block the python side on completion of each step,\n",
              "// then passes the result of the previous step as the input to the next step.\n",
              "function _uploadFilesContinue(outputId) {\n",
              "  const outputElement = document.getElementById(outputId);\n",
              "  const steps = outputElement.steps;\n",
              "\n",
              "  const next = steps.next(outputElement.lastPromiseValue);\n",
              "  return Promise.resolve(next.value.promise).then((value) => {\n",
              "    // Cache the last promise value to make it available to the next\n",
              "    // step of the generator.\n",
              "    outputElement.lastPromiseValue = value;\n",
              "    return next.value.response;\n",
              "  });\n",
              "}\n",
              "\n",
              "/**\n",
              " * Generator function which is called between each async step of the upload\n",
              " * process.\n",
              " * @param {string} inputId Element ID of the input file picker element.\n",
              " * @param {string} outputId Element ID of the output display.\n",
              " * @return {!Iterable<!Object>} Iterable of next steps.\n",
              " */\n",
              "function* uploadFilesStep(inputId, outputId) {\n",
              "  const inputElement = document.getElementById(inputId);\n",
              "  inputElement.disabled = false;\n",
              "\n",
              "  const outputElement = document.getElementById(outputId);\n",
              "  outputElement.innerHTML = '';\n",
              "\n",
              "  const pickedPromise = new Promise((resolve) => {\n",
              "    inputElement.addEventListener('change', (e) => {\n",
              "      resolve(e.target.files);\n",
              "    });\n",
              "  });\n",
              "\n",
              "  const cancel = document.createElement('button');\n",
              "  inputElement.parentElement.appendChild(cancel);\n",
              "  cancel.textContent = 'Cancel upload';\n",
              "  const cancelPromise = new Promise((resolve) => {\n",
              "    cancel.onclick = () => {\n",
              "      resolve(null);\n",
              "    };\n",
              "  });\n",
              "\n",
              "  // Wait for the user to pick the files.\n",
              "  const files = yield {\n",
              "    promise: Promise.race([pickedPromise, cancelPromise]),\n",
              "    response: {\n",
              "      action: 'starting',\n",
              "    }\n",
              "  };\n",
              "\n",
              "  cancel.remove();\n",
              "\n",
              "  // Disable the input element since further picks are not allowed.\n",
              "  inputElement.disabled = true;\n",
              "\n",
              "  if (!files) {\n",
              "    return {\n",
              "      response: {\n",
              "        action: 'complete',\n",
              "      }\n",
              "    };\n",
              "  }\n",
              "\n",
              "  for (const file of files) {\n",
              "    const li = document.createElement('li');\n",
              "    li.append(span(file.name, {fontWeight: 'bold'}));\n",
              "    li.append(span(\n",
              "        `(${file.type || 'n/a'}) - ${file.size} bytes, ` +\n",
              "        `last modified: ${\n",
              "            file.lastModifiedDate ? file.lastModifiedDate.toLocaleDateString() :\n",
              "                                    'n/a'} - `));\n",
              "    const percent = span('0% done');\n",
              "    li.appendChild(percent);\n",
              "\n",
              "    outputElement.appendChild(li);\n",
              "\n",
              "    const fileDataPromise = new Promise((resolve) => {\n",
              "      const reader = new FileReader();\n",
              "      reader.onload = (e) => {\n",
              "        resolve(e.target.result);\n",
              "      };\n",
              "      reader.readAsArrayBuffer(file);\n",
              "    });\n",
              "    // Wait for the data to be ready.\n",
              "    let fileData = yield {\n",
              "      promise: fileDataPromise,\n",
              "      response: {\n",
              "        action: 'continue',\n",
              "      }\n",
              "    };\n",
              "\n",
              "    // Use a chunked sending to avoid message size limits. See b/62115660.\n",
              "    let position = 0;\n",
              "    do {\n",
              "      const length = Math.min(fileData.byteLength - position, MAX_PAYLOAD_SIZE);\n",
              "      const chunk = new Uint8Array(fileData, position, length);\n",
              "      position += length;\n",
              "\n",
              "      const base64 = btoa(String.fromCharCode.apply(null, chunk));\n",
              "      yield {\n",
              "        response: {\n",
              "          action: 'append',\n",
              "          file: file.name,\n",
              "          data: base64,\n",
              "        },\n",
              "      };\n",
              "\n",
              "      let percentDone = fileData.byteLength === 0 ?\n",
              "          100 :\n",
              "          Math.round((position / fileData.byteLength) * 100);\n",
              "      percent.textContent = `${percentDone}% done`;\n",
              "\n",
              "    } while (position < fileData.byteLength);\n",
              "  }\n",
              "\n",
              "  // All done.\n",
              "  yield {\n",
              "    response: {\n",
              "      action: 'complete',\n",
              "    }\n",
              "  };\n",
              "}\n",
              "\n",
              "scope.google = scope.google || {};\n",
              "scope.google.colab = scope.google.colab || {};\n",
              "scope.google.colab._files = {\n",
              "  _uploadFiles,\n",
              "  _uploadFilesContinue,\n",
              "};\n",
              "})(self);\n",
              "</script> "
            ]
          },
          "metadata": {}
        },
        {
          "output_type": "stream",
          "name": "stdout",
          "text": [
            "Saving spam_data.csv to spam_data.csv\n",
            "Arquivo de nome \"spam_data.csv\" de tamanho 485703 bytes\n"
          ]
        }
      ]
    },
    {
      "cell_type": "code",
      "metadata": {
        "id": "dfbJaVJavPh5"
      },
      "source": [
        "# Importando nossos dados a partir do arquivo .csv\n",
        "\n",
        "data = pd.read_csv('spam_data.csv', sep=',')"
      ],
      "execution_count": 4,
      "outputs": []
    },
    {
      "cell_type": "markdown",
      "metadata": {
        "id": "eU9GyNPHlfbF"
      },
      "source": [
        "## Pré processamento de mensagens e rótulos"
      ]
    },
    {
      "cell_type": "code",
      "metadata": {
        "id": "n6MKnJbrwo5g"
      },
      "source": [
        "messages = []\n",
        "labels = []\n",
        "\n",
        "for index, row in data.iterrows():\n",
        "    messages.append(row['Message'])\n",
        "    if row['Category'] == 'ham': # classificando em 0 e 1\n",
        "        labels.append(0)\n",
        "    else:\n",
        "        labels.append(1)"
      ],
      "execution_count": 5,
      "outputs": []
    },
    {
      "cell_type": "code",
      "metadata": {
        "id": "SEAeTE8FwzG0",
        "colab": {
          "base_uri": "https://localhost:8080/"
        },
        "outputId": "f40b7b4a-35ab-40e3-c30f-0c4727e34c8f"
      },
      "source": [
        "text_data_train = np.asarray(messages)\n",
        "text_data_target = np.asarray(labels)\n",
        "\n",
        "print(\"Numero de mensagens: \", len(messages))\n",
        "print(\"Numero de rotulos: \", len(labels))"
      ],
      "execution_count": 6,
      "outputs": [
        {
          "output_type": "stream",
          "name": "stdout",
          "text": [
            "Numero de mensagens:  5572\n",
            "Numero de rotulos:  5572\n"
          ]
        }
      ]
    },
    {
      "cell_type": "markdown",
      "metadata": {
        "id": "_Eae1j77lnxI"
      },
      "source": [
        "## Verificando o formato de nossas mensagens e rótulos"
      ]
    },
    {
      "cell_type": "code",
      "metadata": {
        "id": "r4Y6UKo-3jJ2",
        "colab": {
          "base_uri": "https://localhost:8080/"
        },
        "outputId": "25728882-3f1f-40ae-ba38-285ffafd0c28"
      },
      "source": [
        "text_data_train[:5]"
      ],
      "execution_count": 7,
      "outputs": [
        {
          "output_type": "execute_result",
          "data": {
            "text/plain": [
              "array(['Go until jurong point, crazy.. Available only in bugis n great world la e buffet... Cine there got amore wat...',\n",
              "       'Ok lar... Joking wif u oni...',\n",
              "       \"Free entry in 2 a wkly comp to win FA Cup final tkts 21st May 2005. Text FA to 87121 to receive entry question(std txt rate)T&C's apply 08452810075over18's\",\n",
              "       'U dun say so early hor... U c already then say...',\n",
              "       \"Nah I don't think he goes to usf, he lives around here though\"],\n",
              "      dtype='<U910')"
            ]
          },
          "metadata": {},
          "execution_count": 7
        }
      ]
    },
    {
      "cell_type": "code",
      "metadata": {
        "id": "iUfKWZdf3ouG",
        "colab": {
          "base_uri": "https://localhost:8080/"
        },
        "outputId": "d4019c8f-ce50-49ac-9e53-09d50163b65a"
      },
      "source": [
        "text_data_target[:5]"
      ],
      "execution_count": 8,
      "outputs": [
        {
          "output_type": "execute_result",
          "data": {
            "text/plain": [
              "array([0, 0, 1, 0, 0])"
            ]
          },
          "metadata": {},
          "execution_count": 8
        }
      ]
    },
    {
      "cell_type": "markdown",
      "metadata": {
        "id": "XxLRgFVilzfT"
      },
      "source": [
        "## Processamento de nosso vocabulário"
      ]
    },
    {
      "cell_type": "code",
      "metadata": {
        "id": "Gm6kP3Tkw-HX",
        "colab": {
          "base_uri": "https://localhost:8080/"
        },
        "outputId": "5ad6342f-9e15-44cc-8a8f-81967950ac73"
      },
      "source": [
        "max_vocab = 10000 # Ignorando todas as palavras, exceto as 10.000 palavras mais comuns em nosso vocabulário\n",
        "max_len = 500 # max_len especifica o comprimento máximo da sequência (que é truncada se for longa, e preenchida - via padding - se mais curta)\n",
        "\n",
        "tokenizer = Tokenizer(num_words=max_vocab)\n",
        "\n",
        "# Calculando a frequência das palavras em nossos dados de treinamento\n",
        "\n",
        "tokenizer.fit_on_texts(text_data_train)\n",
        "\n",
        "# Convertendo um array de mensagens para uma lista de sequências de inteiros\n",
        "\n",
        "sequences = tokenizer.texts_to_sequences(text_data_train)\n",
        "\n",
        "# Criação de dicionário afim de registrar as palavras para um índice do tipo inteiro\n",
        "\n",
        "word_index = tokenizer.word_index\n",
        "\n",
        "# Convertendo a matriz de sequências de inteiros em uma matriz 2D (com preenchimento, quando necessário)\n",
        "\n",
        "data = pad_sequences(sequences, maxlen=max_len)\n",
        "\n",
        "print(\"data shape: \", data.shape)"
      ],
      "execution_count": 9,
      "outputs": [
        {
          "output_type": "stream",
          "name": "stdout",
          "text": [
            "data shape:  (5572, 500)\n"
          ]
        }
      ]
    },
    {
      "cell_type": "markdown",
      "metadata": {
        "id": "UfmXfHGQl5An"
      },
      "source": [
        "## Dividindo o dataset em treinamento e validação"
      ]
    },
    {
      "cell_type": "code",
      "metadata": {
        "id": "gs6SAjxSxcQx"
      },
      "source": [
        "# Usando 80% dos dados disponíveis para treinamento e validação (80% treinamento, 20% validação), bem como 20% para teste\n",
        "\n",
        "train_samples = int(len(text_data_train)*0.8)\n",
        "\n",
        "messages_train = data[:train_samples]\n",
        "labels_train = text_data_target[:train_samples]\n",
        "\n",
        "messages_test = data[train_samples:len(text_data_train)-2]\n",
        "labels_test = text_data_target[train_samples:len(text_data_train)-2]\n",
        "\n",
        "embedding_mat_columns=32"
      ],
      "execution_count": 10,
      "outputs": []
    },
    {
      "cell_type": "markdown",
      "metadata": {
        "id": "Cm6Eiay_mCZe"
      },
      "source": [
        "## Definindo a arquitetura do modelo (IMPORTANTE!)\n",
        "\n",
        "* 3 camadas (Camadas de Embedding, Camada RNN Simples e Densa);\n",
        "* Uma última camada do tipo totalmente conectada contendo 1 neurônio."
      ]
    },
    {
      "cell_type": "code",
      "metadata": {
        "id": "KQrMlpSKxfa8"
      },
      "source": [
        "# Construindo nosso modelo de RNN Simples (via camada SimpleRNN)\n",
        "\n",
        "model = Sequential()\n",
        "\n",
        "# Utilização de camada de Embedding tendo em vista converter a codificação de inteiros em embeddings de palavras\n",
        "# O modelo vai então aprender a partir da matriz de embedding durante o treinamento;\n",
        "\n",
        "model.add(Embedding(input_dim=max_vocab, output_dim=embedding_mat_columns, input_length=max_len)) # A matriz de embedding contém max_vocab como número de linhas e o número de colunas escolhido\n",
        "\n",
        "model.add(SimpleRNN(units=embedding_mat_columns))\n",
        "\n",
        "# Após o descrito na Aula 6, testem com novas arquiteturas de camadas (RNNs, LSTMs e GRUs Bidirecionais e stackings) (!)\n",
        "\n",
        "#model.add(LSTM(units=embedding_mat_columns))\n",
        "#model.add(GRU(units=embedding_mat_columns))\n",
        "\n",
        "model.add(Dense(1, activation='sigmoid'))"
      ],
      "execution_count": 11,
      "outputs": []
    },
    {
      "cell_type": "markdown",
      "metadata": {
        "id": "G3ERDDXRmvjA"
      },
      "source": [
        "## Compilando o modelo"
      ]
    },
    {
      "cell_type": "code",
      "metadata": {
        "id": "Ojcp_atkxhx8",
        "colab": {
          "base_uri": "https://localhost:8080/"
        },
        "outputId": "28c5269d-55c9-4c8f-dce5-45aab21fe6c6"
      },
      "source": [
        "model.compile(optimizer='rmsprop', loss='binary_crossentropy', metrics=['acc'])\n",
        "model.summary()"
      ],
      "execution_count": 12,
      "outputs": [
        {
          "output_type": "stream",
          "name": "stdout",
          "text": [
            "Model: \"sequential\"\n",
            "_________________________________________________________________\n",
            " Layer (type)                Output Shape              Param #   \n",
            "=================================================================\n",
            " embedding (Embedding)       (None, 500, 32)           320000    \n",
            "                                                                 \n",
            " simple_rnn (SimpleRNN)      (None, 32)                2080      \n",
            "                                                                 \n",
            " dense (Dense)               (None, 1)                 33        \n",
            "                                                                 \n",
            "=================================================================\n",
            "Total params: 322,113\n",
            "Trainable params: 322,113\n",
            "Non-trainable params: 0\n",
            "_________________________________________________________________\n"
          ]
        }
      ]
    },
    {
      "cell_type": "markdown",
      "metadata": {
        "id": "6TYFZnYbmz0p"
      },
      "source": [
        "## Verificando nosso nosso modelo"
      ]
    },
    {
      "cell_type": "code",
      "metadata": {
        "id": "kGppbyOUxlRL",
        "colab": {
          "base_uri": "https://localhost:8080/",
          "height": 422
        },
        "outputId": "0db3873f-08ea-49ea-dc42-316b372f21e6"
      },
      "source": [
        "plot_model(model, to_file='model.png', show_shapes=True, show_layer_names=True)"
      ],
      "execution_count": 13,
      "outputs": [
        {
          "output_type": "execute_result",
          "data": {
            "image/png": "[encoded data removed]",
            "text/plain": [
              "<IPython.core.display.Image object>"
            ]
          },
          "metadata": {},
          "execution_count": 13
        }
      ]
    },
    {
      "cell_type": "markdown",
      "metadata": {
        "id": "yUHp6nrdm-5G"
      },
      "source": [
        "## Treinamento de nosso modelo"
      ]
    },
    {
      "cell_type": "code",
      "metadata": {
        "id": "J35_0idkxnh7",
        "colab": {
          "base_uri": "https://localhost:8080/"
        },
        "outputId": "75137d5d-d6d9-41bc-e83d-2df223fc20f0"
      },
      "source": [
        "model.fit(messages_train, labels_train, epochs=100, batch_size=16, validation_split=0.2)"
      ],
      "execution_count": 14,
      "outputs": [
        {
          "output_type": "stream",
          "name": "stdout",
          "text": [
            "Epoch 1/100\n",
            "223/223 [==============================] - 131s 557ms/step - loss: 0.2756 - acc: 0.9038 - val_loss: 0.1464 - val_acc: 0.9574\n",
            "Epoch 2/100\n",
            "223/223 [==============================] - 117s 524ms/step - loss: 0.0618 - acc: 0.9818 - val_loss: 0.0625 - val_acc: 0.9821\n",
            "Epoch 3/100\n",
            "223/223 [==============================] - 112s 504ms/step - loss: 0.0347 - acc: 0.9924 - val_loss: 0.0617 - val_acc: 0.9809\n",
            "Epoch 4/100\n",
            "223/223 [==============================] - 111s 500ms/step - loss: 0.0334 - acc: 0.9902 - val_loss: 0.1092 - val_acc: 0.9664\n",
            "Epoch 5/100\n",
            "223/223 [==============================] - 111s 497ms/step - loss: 0.0630 - acc: 0.9790 - val_loss: 0.1005 - val_acc: 0.9619\n",
            "Epoch 6/100\n",
            "223/223 [==============================] - 110s 493ms/step - loss: 0.0282 - acc: 0.9902 - val_loss: 0.0833 - val_acc: 0.9664\n",
            "Epoch 7/100\n",
            "223/223 [==============================] - 110s 495ms/step - loss: 0.0160 - acc: 0.9952 - val_loss: 0.0887 - val_acc: 0.9742\n",
            "Epoch 8/100\n",
            "223/223 [==============================] - 109s 489ms/step - loss: 0.0115 - acc: 0.9966 - val_loss: 0.0976 - val_acc: 0.9753\n",
            "Epoch 9/100\n",
            "223/223 [==============================] - 108s 483ms/step - loss: 0.0086 - acc: 0.9983 - val_loss: 0.1466 - val_acc: 0.9641\n",
            "Epoch 10/100\n",
            "223/223 [==============================] - 111s 499ms/step - loss: 0.0053 - acc: 0.9989 - val_loss: 0.1078 - val_acc: 0.9742\n",
            "Epoch 11/100\n",
            "223/223 [==============================] - 111s 494ms/step - loss: 0.0030 - acc: 0.9994 - val_loss: 0.0980 - val_acc: 0.9776\n",
            "Epoch 12/100\n",
            "223/223 [==============================] - 110s 492ms/step - loss: 0.0018 - acc: 0.9994 - val_loss: 0.1269 - val_acc: 0.9686\n",
            "Epoch 13/100\n",
            "223/223 [==============================] - 111s 498ms/step - loss: 0.0014 - acc: 0.9997 - val_loss: 0.1218 - val_acc: 0.9709\n",
            "Epoch 14/100\n",
            "223/223 [==============================] - 109s 488ms/step - loss: 4.2626e-04 - acc: 0.9997 - val_loss: 0.1363 - val_acc: 0.9720\n",
            "Epoch 15/100\n",
            "223/223 [==============================] - 109s 490ms/step - loss: 4.3037e-04 - acc: 0.9997 - val_loss: 0.1283 - val_acc: 0.9753\n",
            "Epoch 16/100\n",
            "223/223 [==============================] - 110s 495ms/step - loss: 3.3427e-04 - acc: 0.9997 - val_loss: 0.1161 - val_acc: 0.9798\n",
            "Epoch 17/100\n",
            "223/223 [==============================] - 110s 495ms/step - loss: 0.0071 - acc: 0.9980 - val_loss: 0.2617 - val_acc: 0.9383\n",
            "Epoch 18/100\n",
            "223/223 [==============================] - 110s 495ms/step - loss: 0.0028 - acc: 0.9986 - val_loss: 0.1519 - val_acc: 0.9753\n",
            "Epoch 19/100\n",
            "223/223 [==============================] - 111s 498ms/step - loss: 3.3823e-05 - acc: 1.0000 - val_loss: 0.1672 - val_acc: 0.9731\n",
            "Epoch 20/100\n",
            "223/223 [==============================] - 111s 497ms/step - loss: 1.0769e-05 - acc: 1.0000 - val_loss: 0.1472 - val_acc: 0.9742\n",
            "Epoch 21/100\n",
            "223/223 [==============================] - 108s 486ms/step - loss: 9.7076e-05 - acc: 1.0000 - val_loss: 0.1465 - val_acc: 0.9720\n",
            "Epoch 22/100\n",
            "223/223 [==============================] - 109s 491ms/step - loss: 1.3386e-05 - acc: 1.0000 - val_loss: 0.1252 - val_acc: 0.9787\n",
            "Epoch 23/100\n",
            "223/223 [==============================] - 108s 486ms/step - loss: 6.0012e-06 - acc: 1.0000 - val_loss: 0.1332 - val_acc: 0.9787\n",
            "Epoch 24/100\n",
            "223/223 [==============================] - 109s 489ms/step - loss: 4.9195e-06 - acc: 1.0000 - val_loss: 0.1320 - val_acc: 0.9787\n",
            "Epoch 25/100\n",
            "223/223 [==============================] - 112s 504ms/step - loss: 3.6185e-06 - acc: 1.0000 - val_loss: 0.1248 - val_acc: 0.9809\n",
            "Epoch 26/100\n",
            "223/223 [==============================] - 107s 481ms/step - loss: 3.5046e-06 - acc: 1.0000 - val_loss: 0.1468 - val_acc: 0.9765\n",
            "Epoch 27/100\n",
            "223/223 [==============================] - 110s 492ms/step - loss: 3.1010e-06 - acc: 1.0000 - val_loss: 0.1284 - val_acc: 0.9809\n",
            "Epoch 28/100\n",
            "223/223 [==============================] - 109s 490ms/step - loss: 2.8091e-06 - acc: 1.0000 - val_loss: 0.1322 - val_acc: 0.9809\n",
            "Epoch 29/100\n",
            "223/223 [==============================] - 109s 491ms/step - loss: 2.4409e-06 - acc: 1.0000 - val_loss: 0.1296 - val_acc: 0.9821\n",
            "Epoch 30/100\n",
            "223/223 [==============================] - 111s 499ms/step - loss: 2.3814e-06 - acc: 1.0000 - val_loss: 0.1299 - val_acc: 0.9832\n",
            "Epoch 31/100\n",
            "223/223 [==============================] - 111s 500ms/step - loss: 2.2875e-06 - acc: 1.0000 - val_loss: 0.1324 - val_acc: 0.9821\n",
            "Epoch 32/100\n",
            "223/223 [==============================] - 114s 510ms/step - loss: 2.0140e-06 - acc: 1.0000 - val_loss: 0.1293 - val_acc: 0.9832\n",
            "Epoch 33/100\n",
            "223/223 [==============================] - 111s 500ms/step - loss: 2.0160e-06 - acc: 1.0000 - val_loss: 0.1376 - val_acc: 0.9809\n",
            "Epoch 34/100\n",
            "223/223 [==============================] - 112s 501ms/step - loss: 1.8337e-06 - acc: 1.0000 - val_loss: 0.1345 - val_acc: 0.9821\n",
            "Epoch 35/100\n",
            "223/223 [==============================] - 110s 492ms/step - loss: 0.0300 - acc: 0.9927 - val_loss: 0.7071 - val_acc: 0.8655\n",
            "Epoch 36/100\n",
            "223/223 [==============================] - 112s 502ms/step - loss: 0.1548 - acc: 0.9672 - val_loss: 0.1470 - val_acc: 0.9765\n",
            "Epoch 37/100\n",
            "223/223 [==============================] - 112s 502ms/step - loss: 0.0312 - acc: 0.9910 - val_loss: 0.2398 - val_acc: 0.9552\n",
            "Epoch 38/100\n",
            "223/223 [==============================] - 111s 496ms/step - loss: 0.0123 - acc: 0.9944 - val_loss: 0.1939 - val_acc: 0.9630\n",
            "Epoch 39/100\n",
            "223/223 [==============================] - 111s 500ms/step - loss: 6.3928e-05 - acc: 1.0000 - val_loss: 0.1228 - val_acc: 0.9787\n",
            "Epoch 40/100\n",
            "223/223 [==============================] - 113s 505ms/step - loss: 2.1183e-05 - acc: 1.0000 - val_loss: 0.1216 - val_acc: 0.9776\n",
            "Epoch 41/100\n",
            "223/223 [==============================] - 111s 500ms/step - loss: 8.2948e-06 - acc: 1.0000 - val_loss: 0.1250 - val_acc: 0.9809\n",
            "Epoch 42/100\n",
            "223/223 [==============================] - 112s 501ms/step - loss: 5.6191e-06 - acc: 1.0000 - val_loss: 0.1291 - val_acc: 0.9809\n",
            "Epoch 43/100\n",
            "223/223 [==============================] - 111s 496ms/step - loss: 4.7159e-06 - acc: 1.0000 - val_loss: 0.1304 - val_acc: 0.9787\n",
            "Epoch 44/100\n",
            "223/223 [==============================] - 110s 495ms/step - loss: 3.9402e-06 - acc: 1.0000 - val_loss: 0.1323 - val_acc: 0.9787\n",
            "Epoch 45/100\n",
            "223/223 [==============================] - 110s 491ms/step - loss: 3.4082e-06 - acc: 1.0000 - val_loss: 0.1303 - val_acc: 0.9798\n",
            "Epoch 46/100\n",
            "223/223 [==============================] - 109s 491ms/step - loss: 3.0727e-06 - acc: 1.0000 - val_loss: 0.1372 - val_acc: 0.9776\n",
            "Epoch 47/100\n",
            "223/223 [==============================] - 113s 509ms/step - loss: 2.7649e-06 - acc: 1.0000 - val_loss: 0.1313 - val_acc: 0.9798\n",
            "Epoch 48/100\n",
            "223/223 [==============================] - 112s 502ms/step - loss: 2.6842e-06 - acc: 1.0000 - val_loss: 0.1304 - val_acc: 0.9798\n",
            "Epoch 49/100\n",
            "223/223 [==============================] - 111s 497ms/step - loss: 2.3418e-06 - acc: 1.0000 - val_loss: 0.1300 - val_acc: 0.9787\n",
            "Epoch 50/100\n",
            "223/223 [==============================] - 109s 490ms/step - loss: 2.2096e-06 - acc: 1.0000 - val_loss: 0.1303 - val_acc: 0.9798\n",
            "Epoch 51/100\n",
            "223/223 [==============================] - 112s 505ms/step - loss: 2.0573e-06 - acc: 1.0000 - val_loss: 0.1310 - val_acc: 0.9809\n",
            "Epoch 52/100\n",
            "223/223 [==============================] - 112s 503ms/step - loss: 1.9334e-06 - acc: 1.0000 - val_loss: 0.1308 - val_acc: 0.9798\n",
            "Epoch 53/100\n",
            "223/223 [==============================] - 112s 503ms/step - loss: 1.8307e-06 - acc: 1.0000 - val_loss: 0.1313 - val_acc: 0.9809\n",
            "Epoch 54/100\n",
            "223/223 [==============================] - 111s 497ms/step - loss: 1.6615e-06 - acc: 1.0000 - val_loss: 0.1282 - val_acc: 0.9809\n",
            "Epoch 55/100\n",
            "223/223 [==============================] - 112s 503ms/step - loss: 1.6849e-06 - acc: 1.0000 - val_loss: 0.1322 - val_acc: 0.9809\n",
            "Epoch 56/100\n",
            "223/223 [==============================] - 111s 498ms/step - loss: 1.6283e-06 - acc: 1.0000 - val_loss: 0.1316 - val_acc: 0.9809\n",
            "Epoch 57/100\n",
            "223/223 [==============================] - 110s 493ms/step - loss: 1.4927e-06 - acc: 1.0000 - val_loss: 0.1351 - val_acc: 0.9809\n",
            "Epoch 58/100\n",
            "223/223 [==============================] - 110s 492ms/step - loss: 1.4528e-06 - acc: 1.0000 - val_loss: 0.1339 - val_acc: 0.9809\n",
            "Epoch 59/100\n",
            "223/223 [==============================] - 109s 487ms/step - loss: 1.3941e-06 - acc: 1.0000 - val_loss: 0.1330 - val_acc: 0.9809\n",
            "Epoch 60/100\n",
            "223/223 [==============================] - 110s 493ms/step - loss: 0.0021 - acc: 0.9992 - val_loss: 0.2383 - val_acc: 0.9641\n",
            "Epoch 61/100\n",
            "223/223 [==============================] - 108s 485ms/step - loss: 2.3928e-05 - acc: 1.0000 - val_loss: 0.1512 - val_acc: 0.9742\n",
            "Epoch 62/100\n",
            "223/223 [==============================] - 111s 496ms/step - loss: 2.1257e-06 - acc: 1.0000 - val_loss: 0.1423 - val_acc: 0.9765\n",
            "Epoch 63/100\n",
            "223/223 [==============================] - 110s 489ms/step - loss: 1.7566e-06 - acc: 1.0000 - val_loss: 0.1416 - val_acc: 0.9776\n",
            "Epoch 64/100\n",
            "223/223 [==============================] - 111s 500ms/step - loss: 1.5751e-06 - acc: 1.0000 - val_loss: 0.1403 - val_acc: 0.9787\n",
            "Epoch 65/100\n",
            "223/223 [==============================] - 111s 499ms/step - loss: 1.4497e-06 - acc: 1.0000 - val_loss: 0.1378 - val_acc: 0.9798\n",
            "Epoch 66/100\n",
            "223/223 [==============================] - 109s 491ms/step - loss: 1.3593e-06 - acc: 1.0000 - val_loss: 0.1381 - val_acc: 0.9809\n",
            "Epoch 67/100\n",
            "223/223 [==============================] - 111s 498ms/step - loss: 1.2736e-06 - acc: 1.0000 - val_loss: 0.1365 - val_acc: 0.9809\n",
            "Epoch 68/100\n",
            "223/223 [==============================] - 112s 504ms/step - loss: 1.2185e-06 - acc: 1.0000 - val_loss: 0.1369 - val_acc: 0.9809\n",
            "Epoch 69/100\n",
            "223/223 [==============================] - 111s 499ms/step - loss: 1.1584e-06 - acc: 1.0000 - val_loss: 0.1387 - val_acc: 0.9809\n",
            "Epoch 70/100\n",
            "223/223 [==============================] - 112s 504ms/step - loss: 1.1063e-06 - acc: 1.0000 - val_loss: 0.1364 - val_acc: 0.9809\n",
            "Epoch 71/100\n",
            "223/223 [==============================] - 108s 481ms/step - loss: 1.0720e-06 - acc: 1.0000 - val_loss: 0.1383 - val_acc: 0.9809\n",
            "Epoch 72/100\n",
            "223/223 [==============================] - 111s 499ms/step - loss: 1.0391e-06 - acc: 1.0000 - val_loss: 0.1373 - val_acc: 0.9821\n",
            "Epoch 73/100\n",
            "223/223 [==============================] - 109s 487ms/step - loss: 1.0046e-06 - acc: 1.0000 - val_loss: 0.1381 - val_acc: 0.9821\n",
            "Epoch 74/100\n",
            "223/223 [==============================] - 109s 488ms/step - loss: 9.7214e-07 - acc: 1.0000 - val_loss: 0.1388 - val_acc: 0.9821\n",
            "Epoch 75/100\n",
            "223/223 [==============================] - 108s 487ms/step - loss: 9.4340e-07 - acc: 1.0000 - val_loss: 0.1380 - val_acc: 0.9832\n",
            "Epoch 76/100\n",
            "223/223 [==============================] - 113s 507ms/step - loss: 9.1710e-07 - acc: 1.0000 - val_loss: 0.1391 - val_acc: 0.9821\n",
            "Epoch 77/100\n",
            "223/223 [==============================] - 110s 495ms/step - loss: 8.9217e-07 - acc: 1.0000 - val_loss: 0.1379 - val_acc: 0.9832\n",
            "Epoch 78/100\n",
            "223/223 [==============================] - 111s 498ms/step - loss: 8.7022e-07 - acc: 1.0000 - val_loss: 0.1387 - val_acc: 0.9821\n",
            "Epoch 79/100\n",
            "223/223 [==============================] - 109s 490ms/step - loss: 8.5202e-07 - acc: 1.0000 - val_loss: 0.1382 - val_acc: 0.9821\n",
            "Epoch 80/100\n",
            "223/223 [==============================] - 109s 490ms/step - loss: 8.2419e-07 - acc: 1.0000 - val_loss: 0.1377 - val_acc: 0.9832\n",
            "Epoch 81/100\n",
            "223/223 [==============================] - 108s 484ms/step - loss: 8.1311e-07 - acc: 1.0000 - val_loss: 0.1389 - val_acc: 0.9821\n",
            "Epoch 82/100\n",
            "223/223 [==============================] - 112s 500ms/step - loss: 7.9155e-07 - acc: 1.0000 - val_loss: 0.1399 - val_acc: 0.9821\n",
            "Epoch 83/100\n",
            "223/223 [==============================] - 112s 503ms/step - loss: 7.8127e-07 - acc: 1.0000 - val_loss: 0.1403 - val_acc: 0.9821\n",
            "Epoch 84/100\n",
            "223/223 [==============================] - 110s 491ms/step - loss: 7.5290e-07 - acc: 1.0000 - val_loss: 0.1391 - val_acc: 0.9821\n",
            "Epoch 85/100\n",
            "223/223 [==============================] - 112s 504ms/step - loss: 7.4842e-07 - acc: 1.0000 - val_loss: 0.1391 - val_acc: 0.9821\n",
            "Epoch 86/100\n",
            "223/223 [==============================] - 111s 496ms/step - loss: 8.0006e-07 - acc: 1.0000 - val_loss: 0.1407 - val_acc: 0.9809\n",
            "Epoch 87/100\n",
            "223/223 [==============================] - 114s 510ms/step - loss: 7.2059e-07 - acc: 1.0000 - val_loss: 0.1405 - val_acc: 0.9821\n",
            "Epoch 88/100\n",
            "223/223 [==============================] - 109s 490ms/step - loss: 7.0425e-07 - acc: 1.0000 - val_loss: 0.1400 - val_acc: 0.9832\n",
            "Epoch 89/100\n",
            "223/223 [==============================] - 109s 489ms/step - loss: 6.8739e-07 - acc: 1.0000 - val_loss: 0.1398 - val_acc: 0.9832\n",
            "Epoch 90/100\n",
            "223/223 [==============================] - 110s 493ms/step - loss: 6.7569e-07 - acc: 1.0000 - val_loss: 0.1304 - val_acc: 0.9821\n",
            "Epoch 91/100\n",
            "223/223 [==============================] - 110s 491ms/step - loss: 0.0025 - acc: 0.9994 - val_loss: 0.1939 - val_acc: 0.9686\n",
            "Epoch 92/100\n",
            "223/223 [==============================] - 110s 493ms/step - loss: 2.3485e-06 - acc: 1.0000 - val_loss: 0.1411 - val_acc: 0.9776\n",
            "Epoch 93/100\n",
            "223/223 [==============================] - 109s 487ms/step - loss: 1.1003e-06 - acc: 1.0000 - val_loss: 0.1436 - val_acc: 0.9765\n",
            "Epoch 94/100\n",
            "223/223 [==============================] - 110s 493ms/step - loss: 9.7685e-07 - acc: 1.0000 - val_loss: 0.1412 - val_acc: 0.9787\n",
            "Epoch 95/100\n",
            "223/223 [==============================] - 109s 490ms/step - loss: 9.0899e-07 - acc: 1.0000 - val_loss: 0.1395 - val_acc: 0.9787\n",
            "Epoch 96/100\n",
            "223/223 [==============================] - 111s 499ms/step - loss: 8.5970e-07 - acc: 1.0000 - val_loss: 0.1404 - val_acc: 0.9787\n",
            "Epoch 97/100\n",
            "223/223 [==============================] - 112s 500ms/step - loss: 8.1635e-07 - acc: 1.0000 - val_loss: 0.1393 - val_acc: 0.9798\n",
            "Epoch 98/100\n",
            "223/223 [==============================] - 109s 490ms/step - loss: 7.8146e-07 - acc: 1.0000 - val_loss: 0.1391 - val_acc: 0.9798\n",
            "Epoch 99/100\n",
            "223/223 [==============================] - 109s 491ms/step - loss: 7.5314e-07 - acc: 1.0000 - val_loss: 0.1399 - val_acc: 0.9809\n",
            "Epoch 100/100\n",
            "223/223 [==============================] - 110s 496ms/step - loss: 7.2721e-07 - acc: 1.0000 - val_loss: 0.1401 - val_acc: 0.9809\n"
          ]
        },
        {
          "output_type": "execute_result",
          "data": {
            "text/plain": [
              "<keras.callbacks.History at 0x7bcdc1b5ae00>"
            ]
          },
          "metadata": {},
          "execution_count": 14
        }
      ]
    },
    {
      "cell_type": "markdown",
      "metadata": {
        "id": "wkLEa97WnFJj"
      },
      "source": [
        "## Teste de nosso modelo"
      ]
    },
    {
      "cell_type": "code",
      "metadata": {
        "id": "r2a9aArFxqD9",
        "colab": {
          "base_uri": "https://localhost:8080/"
        },
        "outputId": "84171b50-c0d4-427b-876d-96aa215473b2"
      },
      "source": [
        "prediction = model.predict(messages_test)\n",
        "accuracy = model.evaluate(messages_test, labels_test)\n",
        "print(\"Perda em teste {0:.2f} acuracia eh {1:.2f}  \".format(accuracy[0],accuracy[1]))"
      ],
      "execution_count": 15,
      "outputs": [
        {
          "output_type": "stream",
          "name": "stdout",
          "text": [
            "35/35 [==============================] - 1s 37ms/step\n",
            "35/35 [==============================] - 1s 38ms/step - loss: 0.1404 - acc: 0.9784\n",
            "Perda em teste 0.14 acuracia eh 0.98  \n"
          ]
        }
      ]
    },
    {
      "cell_type": "code",
      "metadata": {
        "id": "2JcyEZ6LxsPs",
        "colab": {
          "base_uri": "https://localhost:8080/"
        },
        "outputId": "3e3012e8-62e8-4226-e40e-598c0718d991"
      },
      "source": [
        "# Construindo mensagem personalizada para teste rápido\n",
        "\n",
        "#custom_msg = 'Hi how are you'\n",
        "custom_msg = 'Free entry in 2 a wkly comp to win FA Cup final tkts 21st May Text FA to 87121 to receive entry question'\n",
        "\n",
        "test_seq = message_to_array(custom_msg)\n",
        "prediction = (model.predict(test_seq) > 0.5).astype(\"int32\")\n",
        "print(prediction)  #[1] para spam [0] para nao spam (ham)"
      ],
      "execution_count": 16,
      "outputs": [
        {
          "output_type": "stream",
          "name": "stdout",
          "text": [
            "1/1 [==============================] - 0s 257ms/step\n",
            "[[1]]\n"
          ]
        }
      ]
    }
  ]
}